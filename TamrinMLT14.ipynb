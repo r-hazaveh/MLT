{
  "nbformat": 4,
  "nbformat_minor": 0,
  "metadata": {
    "colab": {
      "provenance": []
    },
    "kernelspec": {
      "name": "python3",
      "display_name": "Python 3"
    },
    "language_info": {
      "name": "python"
    }
  },
  "cells": [
    {
      "cell_type": "code",
      "execution_count": null,
      "metadata": {
        "id": "u8MAGihGCqWg"
      },
      "outputs": [],
      "source": [
        "import torch"
      ]
    },
    {
      "cell_type": "code",
      "source": [
        "scalar = torch.tensor(3.14)\n",
        "scalar"
      ],
      "metadata": {
        "colab": {
          "base_uri": "https://localhost:8080/"
        },
        "id": "0C7YQFtFH7Qk",
        "outputId": "3f49a8bb-963b-4a0a-c009-01a6953ca1b1"
      },
      "execution_count": null,
      "outputs": [
        {
          "output_type": "execute_result",
          "data": {
            "text/plain": [
              "tensor(3.1400)"
            ]
          },
          "metadata": {},
          "execution_count": 3
        }
      ]
    },
    {
      "cell_type": "code",
      "source": [
        "type(scalar)"
      ],
      "metadata": {
        "colab": {
          "base_uri": "https://localhost:8080/"
        },
        "id": "d_EJOuvmII8s",
        "outputId": "0cd8fade-9b70-485a-8d52-4f4f174fb1be"
      },
      "execution_count": null,
      "outputs": [
        {
          "output_type": "execute_result",
          "data": {
            "text/plain": [
              "torch.Tensor"
            ]
          },
          "metadata": {},
          "execution_count": 4
        }
      ]
    },
    {
      "cell_type": "code",
      "source": [
        "scalar.dtype"
      ],
      "metadata": {
        "colab": {
          "base_uri": "https://localhost:8080/"
        },
        "id": "gSZIKXwOIN0z",
        "outputId": "c54584d6-a715-49c7-98b6-31d0631eb970"
      },
      "execution_count": null,
      "outputs": [
        {
          "output_type": "execute_result",
          "data": {
            "text/plain": [
              "torch.float32"
            ]
          },
          "metadata": {},
          "execution_count": 5
        }
      ]
    },
    {
      "cell_type": "code",
      "source": [
        "vector = torch.tensor([1,2,3])\n",
        "vector"
      ],
      "metadata": {
        "colab": {
          "base_uri": "https://localhost:8080/"
        },
        "id": "DU5mo_X3IWsX",
        "outputId": "3fc6ace1-5675-4685-df1b-f290a9c2144f"
      },
      "execution_count": null,
      "outputs": [
        {
          "output_type": "execute_result",
          "data": {
            "text/plain": [
              "tensor([1, 2, 3])"
            ]
          },
          "metadata": {},
          "execution_count": 6
        }
      ]
    },
    {
      "cell_type": "code",
      "source": [
        "matrix = torch.ones((4,3), dtype = torch.float)\n",
        "matrix"
      ],
      "metadata": {
        "colab": {
          "base_uri": "https://localhost:8080/"
        },
        "id": "tlcxfqihIgrQ",
        "outputId": "b1d7c598-7a15-4a8a-9f46-a6fc51500a8f"
      },
      "execution_count": null,
      "outputs": [
        {
          "output_type": "execute_result",
          "data": {
            "text/plain": [
              "tensor([[1., 1., 1.],\n",
              "        [1., 1., 1.],\n",
              "        [1., 1., 1.],\n",
              "        [1., 1., 1.]])"
            ]
          },
          "metadata": {},
          "execution_count": 7
        }
      ]
    },
    {
      "cell_type": "code",
      "source": [
        "tensor = torch.randn((3,5,5), dtype = torch.float)\n",
        "tensor"
      ],
      "metadata": {
        "colab": {
          "base_uri": "https://localhost:8080/"
        },
        "id": "3Hg8wm3MJfch",
        "outputId": "6b032898-ae07-4f5e-9881-fd59d745e487"
      },
      "execution_count": null,
      "outputs": [
        {
          "output_type": "execute_result",
          "data": {
            "text/plain": [
              "tensor([[[ 1.5172, -0.9370,  1.1284, -0.4653,  0.2224],\n",
              "         [ 1.6120,  2.3747, -1.2084,  0.4845,  1.3232],\n",
              "         [ 1.2962,  0.5367,  0.2805, -0.9318, -1.7906],\n",
              "         [-1.6489,  0.2780,  1.8512,  0.4373, -0.7268],\n",
              "         [ 0.6539, -0.8806,  0.9612, -1.4246, -0.1582]],\n",
              "\n",
              "        [[-1.5209,  0.0909, -0.1260, -1.3645,  0.3009],\n",
              "         [ 0.4181, -0.3469,  0.4824,  2.2565, -0.3602],\n",
              "         [ 1.5882, -0.4538, -0.0913, -0.2217,  1.2141],\n",
              "         [-0.1030, -0.7216,  1.4852,  1.6899, -0.4978],\n",
              "         [-0.1312,  0.4421, -0.3778,  0.0797,  0.2747]],\n",
              "\n",
              "        [[ 0.0945, -1.6102, -0.0664, -0.7080,  0.7625],\n",
              "         [-0.4816,  0.5742,  1.6457, -0.1044, -0.9659],\n",
              "         [-0.3002, -0.4343,  1.7933,  0.3006, -0.6405],\n",
              "         [-0.6295,  0.1124,  1.0086, -0.4772,  0.1476],\n",
              "         [-0.0701, -0.3664, -0.7830,  0.2653,  0.4240]]])"
            ]
          },
          "metadata": {},
          "execution_count": 8
        }
      ]
    },
    {
      "cell_type": "code",
      "source": [
        "tensor.shape"
      ],
      "metadata": {
        "colab": {
          "base_uri": "https://localhost:8080/"
        },
        "id": "TK3iUukwJ-UQ",
        "outputId": "6beaaa3c-1374-4cda-d275-bfbe77c027cb"
      },
      "execution_count": null,
      "outputs": [
        {
          "output_type": "execute_result",
          "data": {
            "text/plain": [
              "torch.Size([3, 5, 5])"
            ]
          },
          "metadata": {},
          "execution_count": 9
        }
      ]
    },
    {
      "cell_type": "code",
      "source": [
        "tensor.size()"
      ],
      "metadata": {
        "colab": {
          "base_uri": "https://localhost:8080/"
        },
        "id": "FVAyjR1pKNix",
        "outputId": "7b89224d-1646-407a-af9e-b5d3f90f12cc"
      },
      "execution_count": null,
      "outputs": [
        {
          "output_type": "execute_result",
          "data": {
            "text/plain": [
              "torch.Size([3, 5, 5])"
            ]
          },
          "metadata": {},
          "execution_count": 10
        }
      ]
    },
    {
      "cell_type": "code",
      "source": [
        "scalar.size()"
      ],
      "metadata": {
        "colab": {
          "base_uri": "https://localhost:8080/"
        },
        "id": "WnqVhHm0KZ82",
        "outputId": "e6abb820-c91d-46dc-ecf2-c702681bcc84"
      },
      "execution_count": null,
      "outputs": [
        {
          "output_type": "execute_result",
          "data": {
            "text/plain": [
              "torch.Size([])"
            ]
          },
          "metadata": {},
          "execution_count": 11
        }
      ]
    },
    {
      "cell_type": "code",
      "source": [
        "vector.size()"
      ],
      "metadata": {
        "colab": {
          "base_uri": "https://localhost:8080/"
        },
        "id": "giVz6eFEKgVq",
        "outputId": "c6bd77a7-d78d-412d-ae3e-e9a44f0f1aaa"
      },
      "execution_count": null,
      "outputs": [
        {
          "output_type": "execute_result",
          "data": {
            "text/plain": [
              "torch.Size([3])"
            ]
          },
          "metadata": {},
          "execution_count": 12
        }
      ]
    },
    {
      "cell_type": "code",
      "source": [
        "tensor.reshape(5,3,5)  # gahi copy nemiknad. khatarnak ast"
      ],
      "metadata": {
        "colab": {
          "base_uri": "https://localhost:8080/"
        },
        "id": "PA-lnL4pKs9v",
        "outputId": "84bdb694-ef74-4f26-8de1-66a93efc7f74"
      },
      "execution_count": null,
      "outputs": [
        {
          "output_type": "execute_result",
          "data": {
            "text/plain": [
              "tensor([[[ 1.5172, -0.9370,  1.1284, -0.4653,  0.2224],\n",
              "         [ 1.6120,  2.3747, -1.2084,  0.4845,  1.3232],\n",
              "         [ 1.2962,  0.5367,  0.2805, -0.9318, -1.7906]],\n",
              "\n",
              "        [[-1.6489,  0.2780,  1.8512,  0.4373, -0.7268],\n",
              "         [ 0.6539, -0.8806,  0.9612, -1.4246, -0.1582],\n",
              "         [-1.5209,  0.0909, -0.1260, -1.3645,  0.3009]],\n",
              "\n",
              "        [[ 0.4181, -0.3469,  0.4824,  2.2565, -0.3602],\n",
              "         [ 1.5882, -0.4538, -0.0913, -0.2217,  1.2141],\n",
              "         [-0.1030, -0.7216,  1.4852,  1.6899, -0.4978]],\n",
              "\n",
              "        [[-0.1312,  0.4421, -0.3778,  0.0797,  0.2747],\n",
              "         [ 0.0945, -1.6102, -0.0664, -0.7080,  0.7625],\n",
              "         [-0.4816,  0.5742,  1.6457, -0.1044, -0.9659]],\n",
              "\n",
              "        [[-0.3002, -0.4343,  1.7933,  0.3006, -0.6405],\n",
              "         [-0.6295,  0.1124,  1.0086, -0.4772,  0.1476],\n",
              "         [-0.0701, -0.3664, -0.7830,  0.2653,  0.4240]]])"
            ]
          },
          "metadata": {},
          "execution_count": 13
        }
      ]
    },
    {
      "cell_type": "code",
      "source": [
        "matrix"
      ],
      "metadata": {
        "colab": {
          "base_uri": "https://localhost:8080/"
        },
        "id": "GLdlfWa6K8jH",
        "outputId": "98fd5c03-f3c4-414d-e59b-15b505073549"
      },
      "execution_count": null,
      "outputs": [
        {
          "output_type": "execute_result",
          "data": {
            "text/plain": [
              "tensor([[1., 1., 1.],\n",
              "        [1., 1., 1.],\n",
              "        [1., 1., 1.],\n",
              "        [1., 1., 1.]])"
            ]
          },
          "metadata": {},
          "execution_count": 14
        }
      ]
    },
    {
      "cell_type": "code",
      "source": [
        "view_matrix = matrix.view(2,6)\n",
        "view_matrix"
      ],
      "metadata": {
        "colab": {
          "base_uri": "https://localhost:8080/"
        },
        "id": "j6o4vuFBLF-l",
        "outputId": "ebb3d1c3-928e-4876-dc1a-8d252df79cb8"
      },
      "execution_count": null,
      "outputs": [
        {
          "output_type": "execute_result",
          "data": {
            "text/plain": [
              "tensor([[1., 1., 1., 1., 1., 1.],\n",
              "        [1., 1., 1., 1., 1., 1.]])"
            ]
          },
          "metadata": {},
          "execution_count": 15
        }
      ]
    },
    {
      "cell_type": "code",
      "source": [
        "view_matrix[0,1] = 50\n",
        "matrix"
      ],
      "metadata": {
        "colab": {
          "base_uri": "https://localhost:8080/"
        },
        "id": "5iq7YQOpLWVh",
        "outputId": "59e83eba-02f2-462d-81ca-fe5f4e4f83ac"
      },
      "execution_count": null,
      "outputs": [
        {
          "output_type": "execute_result",
          "data": {
            "text/plain": [
              "tensor([[ 1., 50.,  1.],\n",
              "        [ 1.,  1.,  1.],\n",
              "        [ 1.,  1.,  1.],\n",
              "        [ 1.,  1.,  1.]])"
            ]
          },
          "metadata": {},
          "execution_count": 16
        }
      ]
    },
    {
      "cell_type": "code",
      "source": [
        "new_matrix = matrix.new_tensor(matrix.view(2,6))  # copy mikanad, safe ast."
      ],
      "metadata": {
        "colab": {
          "base_uri": "https://localhost:8080/"
        },
        "id": "Bt7EksFnLuXK",
        "outputId": "1a33068c-4e7f-48f6-ee9a-dd3b28bf21e1"
      },
      "execution_count": null,
      "outputs": [
        {
          "output_type": "stream",
          "name": "stderr",
          "text": [
            "<ipython-input-17-255c88a5d893>:1: UserWarning: To copy construct from a tensor, it is recommended to use sourceTensor.clone().detach() or sourceTensor.clone().detach().requires_grad_(True), rather than tensor.new_tensor(sourceTensor).\n",
            "  new_matrix = matrix.new_tensor(matrix.view(2,6))  # copy mikanad, safe ast.\n"
          ]
        }
      ]
    },
    {
      "cell_type": "code",
      "source": [
        "new_matrix[0,2] = 1000\n",
        "matrix"
      ],
      "metadata": {
        "colab": {
          "base_uri": "https://localhost:8080/"
        },
        "id": "Np_82CV_MCup",
        "outputId": "cc0604cf-b672-4f96-c6f0-5915bc0e48a1"
      },
      "execution_count": null,
      "outputs": [
        {
          "output_type": "execute_result",
          "data": {
            "text/plain": [
              "tensor([[ 1., 50.,  1.],\n",
              "        [ 1.,  1.,  1.],\n",
              "        [ 1.,  1.,  1.],\n",
              "        [ 1.,  1.,  1.]])"
            ]
          },
          "metadata": {},
          "execution_count": 18
        }
      ]
    },
    {
      "cell_type": "code",
      "source": [
        "new_matrix = matrix.clone().detach().view(2,6)  # copy mikonad, safe ast, bejaye reshape *******************************\n",
        "new_matrix"
      ],
      "metadata": {
        "colab": {
          "base_uri": "https://localhost:8080/"
        },
        "id": "2Iv8vQRxMc-j",
        "outputId": "450a1d01-0821-4feb-a701-94d9eb030235"
      },
      "execution_count": null,
      "outputs": [
        {
          "output_type": "execute_result",
          "data": {
            "text/plain": [
              "tensor([[ 1., 50.,  1.,  1.,  1.,  1.],\n",
              "        [ 1.,  1.,  1.,  1.,  1.,  1.]])"
            ]
          },
          "metadata": {},
          "execution_count": 19
        }
      ]
    },
    {
      "cell_type": "code",
      "source": [
        "new_matrix = matrix.clone().detach()\n",
        "new_matrix[1,0] = 300\n",
        "matrix"
      ],
      "metadata": {
        "colab": {
          "base_uri": "https://localhost:8080/"
        },
        "id": "wZvT-AGOM2-9",
        "outputId": "26b1f665-a14d-4bed-ee8d-49165021b09c"
      },
      "execution_count": null,
      "outputs": [
        {
          "output_type": "execute_result",
          "data": {
            "text/plain": [
              "tensor([[ 1., 50.,  1.],\n",
              "        [ 1.,  1.,  1.],\n",
              "        [ 1.,  1.,  1.],\n",
              "        [ 1.,  1.,  1.]])"
            ]
          },
          "metadata": {},
          "execution_count": 20
        }
      ]
    },
    {
      "cell_type": "code",
      "source": [
        "new_matrix"
      ],
      "metadata": {
        "colab": {
          "base_uri": "https://localhost:8080/"
        },
        "id": "5KXESz2LNYQH",
        "outputId": "51d5e87f-965c-4e5b-977f-9d52b0aae5d8"
      },
      "execution_count": null,
      "outputs": [
        {
          "output_type": "execute_result",
          "data": {
            "text/plain": [
              "tensor([[  1.,  50.,   1.],\n",
              "        [300.,   1.,   1.],\n",
              "        [  1.,   1.,   1.],\n",
              "        [  1.,   1.,   1.]])"
            ]
          },
          "metadata": {},
          "execution_count": 21
        }
      ]
    },
    {
      "cell_type": "code",
      "source": [
        "import numpy as np"
      ],
      "metadata": {
        "id": "Z9Mcj7kDNvA0"
      },
      "execution_count": null,
      "outputs": []
    },
    {
      "cell_type": "code",
      "source": [
        "arr = np.arange(20)\n",
        "arr"
      ],
      "metadata": {
        "colab": {
          "base_uri": "https://localhost:8080/"
        },
        "id": "gxi6OlbpN0KX",
        "outputId": "0382dbfd-5822-4387-b60a-59470b27be85"
      },
      "execution_count": null,
      "outputs": [
        {
          "output_type": "execute_result",
          "data": {
            "text/plain": [
              "array([ 0,  1,  2,  3,  4,  5,  6,  7,  8,  9, 10, 11, 12, 13, 14, 15, 16,\n",
              "       17, 18, 19])"
            ]
          },
          "metadata": {},
          "execution_count": 23
        }
      ]
    },
    {
      "cell_type": "code",
      "source": [
        "t = torch.as_tensor(arr)   # baraye tabdile numpy be torch, copy nemikonad , safe nist\n",
        "t"
      ],
      "metadata": {
        "colab": {
          "base_uri": "https://localhost:8080/"
        },
        "id": "6zTxRHGFOSha",
        "outputId": "9648e301-f352-4567-a2c4-6231ebe1f9e3"
      },
      "execution_count": null,
      "outputs": [
        {
          "output_type": "execute_result",
          "data": {
            "text/plain": [
              "tensor([ 0,  1,  2,  3,  4,  5,  6,  7,  8,  9, 10, 11, 12, 13, 14, 15, 16, 17,\n",
              "        18, 19])"
            ]
          },
          "metadata": {},
          "execution_count": 24
        }
      ]
    },
    {
      "cell_type": "code",
      "source": [
        "t[0] = 500\n",
        "t"
      ],
      "metadata": {
        "colab": {
          "base_uri": "https://localhost:8080/"
        },
        "id": "nL9Ajo1UOuKk",
        "outputId": "8d20c237-e4e7-42a0-ee27-cd18a61c7bfe"
      },
      "execution_count": null,
      "outputs": [
        {
          "output_type": "execute_result",
          "data": {
            "text/plain": [
              "tensor([500,   1,   2,   3,   4,   5,   6,   7,   8,   9,  10,  11,  12,  13,\n",
              "         14,  15,  16,  17,  18,  19])"
            ]
          },
          "metadata": {},
          "execution_count": 25
        }
      ]
    },
    {
      "cell_type": "code",
      "source": [
        "arr"
      ],
      "metadata": {
        "colab": {
          "base_uri": "https://localhost:8080/"
        },
        "id": "hdVjgjEnPUOL",
        "outputId": "c5c8e3e2-09ba-4b01-f3cf-bb42f7ad723a"
      },
      "execution_count": null,
      "outputs": [
        {
          "output_type": "execute_result",
          "data": {
            "text/plain": [
              "array([500,   1,   2,   3,   4,   5,   6,   7,   8,   9,  10,  11,  12,\n",
              "        13,  14,  15,  16,  17,  18,  19])"
            ]
          },
          "metadata": {},
          "execution_count": 26
        }
      ]
    },
    {
      "cell_type": "code",
      "source": [
        "t2 = torch.tensor(arr)  # copy mikonad, raveshe safe ast.    *****************************************\n",
        "t2"
      ],
      "metadata": {
        "colab": {
          "base_uri": "https://localhost:8080/"
        },
        "id": "1bKdRdabP4hp",
        "outputId": "d9b33b68-5ba6-4aad-cdff-457183054cc4"
      },
      "execution_count": null,
      "outputs": [
        {
          "output_type": "execute_result",
          "data": {
            "text/plain": [
              "tensor([500,   1,   2,   3,   4,   5,   6,   7,   8,   9,  10,  11,  12,  13,\n",
              "         14,  15,  16,  17,  18,  19])"
            ]
          },
          "metadata": {},
          "execution_count": 27
        }
      ]
    },
    {
      "cell_type": "code",
      "source": [
        "t2[0] = 6\n",
        "arr"
      ],
      "metadata": {
        "colab": {
          "base_uri": "https://localhost:8080/"
        },
        "id": "YGstGs_lP-u9",
        "outputId": "c8c675a7-2d6a-4621-dbee-989d3733d6ae"
      },
      "execution_count": null,
      "outputs": [
        {
          "output_type": "execute_result",
          "data": {
            "text/plain": [
              "array([500,   1,   2,   3,   4,   5,   6,   7,   8,   9,  10,  11,  12,\n",
              "        13,  14,  15,  16,  17,  18,  19])"
            ]
          },
          "metadata": {},
          "execution_count": 28
        }
      ]
    },
    {
      "cell_type": "code",
      "source": [
        "t2 = t2.float()\n",
        "t2"
      ],
      "metadata": {
        "colab": {
          "base_uri": "https://localhost:8080/"
        },
        "id": "37H7GfOWQK8B",
        "outputId": "ce8aa90c-59a6-4798-cfd5-c06f91095ceb"
      },
      "execution_count": null,
      "outputs": [
        {
          "output_type": "execute_result",
          "data": {
            "text/plain": [
              "tensor([ 6.,  1.,  2.,  3.,  4.,  5.,  6.,  7.,  8.,  9., 10., 11., 12., 13.,\n",
              "        14., 15., 16., 17., 18., 19.])"
            ]
          },
          "metadata": {},
          "execution_count": 29
        }
      ]
    },
    {
      "cell_type": "code",
      "source": [
        "a2 = t2.numpy()   # convert to numpy"
      ],
      "metadata": {
        "id": "9EvduXmZQdzv"
      },
      "execution_count": null,
      "outputs": []
    },
    {
      "cell_type": "code",
      "source": [
        "t2[0] = 200  # copy nemikonad, safe nist    *************************\n",
        "a2"
      ],
      "metadata": {
        "colab": {
          "base_uri": "https://localhost:8080/"
        },
        "id": "IDSUpwrlQ63A",
        "outputId": "52f26487-5d9b-45c1-a7bd-81f228ea5998"
      },
      "execution_count": null,
      "outputs": [
        {
          "output_type": "execute_result",
          "data": {
            "text/plain": [
              "array([200.,   1.,   2.,   3.,   4.,   5.,   6.,   7.,   8.,   9.,  10.,\n",
              "        11.,  12.,  13.,  14.,  15.,  16.,  17.,  18.,  19.],\n",
              "      dtype=float32)"
            ]
          },
          "metadata": {},
          "execution_count": 31
        }
      ]
    },
    {
      "cell_type": "code",
      "source": [
        "a3 = t2.detach().cpu().numpy()  # safe nist,,  Nnmpy faghat rooye cpu ejra mishavad,"
      ],
      "metadata": {
        "id": "Sy-gWCZjRB62"
      },
      "execution_count": null,
      "outputs": []
    },
    {
      "cell_type": "code",
      "source": [
        "t2[0] = 400\n",
        "a3"
      ],
      "metadata": {
        "colab": {
          "base_uri": "https://localhost:8080/"
        },
        "id": "yJRPkGheSokx",
        "outputId": "23331efe-9c15-41d0-e2b2-cea58ed7ca0a"
      },
      "execution_count": null,
      "outputs": [
        {
          "output_type": "execute_result",
          "data": {
            "text/plain": [
              "array([400.,   1.,   2.,   3.,   4.,   5.,   6.,   7.,   8.,   9.,  10.,\n",
              "        11.,  12.,  13.,  14.,  15.,  16.,  17.,  18.,  19.],\n",
              "      dtype=float32)"
            ]
          },
          "metadata": {},
          "execution_count": 33
        }
      ]
    },
    {
      "cell_type": "code",
      "source": [
        "torch.cuda.is_available()"
      ],
      "metadata": {
        "colab": {
          "base_uri": "https://localhost:8080/"
        },
        "id": "4B2Y8CLyUQl_",
        "outputId": "87b848ea-6506-4b3b-c8e4-3757be1e0133"
      },
      "execution_count": null,
      "outputs": [
        {
          "output_type": "execute_result",
          "data": {
            "text/plain": [
              "True"
            ]
          },
          "metadata": {},
          "execution_count": 34
        }
      ]
    },
    {
      "cell_type": "code",
      "source": [
        "device = 'cuda' if torch.cuda.is_available() else 'cpu'"
      ],
      "metadata": {
        "id": "zpipXfIuUe2p"
      },
      "execution_count": null,
      "outputs": []
    },
    {
      "cell_type": "code",
      "source": [
        "device"
      ],
      "metadata": {
        "colab": {
          "base_uri": "https://localhost:8080/",
          "height": 35
        },
        "id": "bVQOhivcUgbH",
        "outputId": "7fdec9c9-fb42-4380-c44b-839f11ded335"
      },
      "execution_count": null,
      "outputs": [
        {
          "output_type": "execute_result",
          "data": {
            "text/plain": [
              "'cuda'"
            ],
            "application/vnd.google.colaboratory.intrinsic+json": {
              "type": "string"
            }
          },
          "metadata": {},
          "execution_count": 36
        }
      ]
    },
    {
      "cell_type": "code",
      "source": [
        "t2"
      ],
      "metadata": {
        "colab": {
          "base_uri": "https://localhost:8080/"
        },
        "id": "caWyc443Um8g",
        "outputId": "0103f03b-24d8-4572-9a0f-c8d72b0e0136"
      },
      "execution_count": null,
      "outputs": [
        {
          "output_type": "execute_result",
          "data": {
            "text/plain": [
              "tensor([400.,   1.,   2.,   3.,   4.,   5.,   6.,   7.,   8.,   9.,  10.,  11.,\n",
              "         12.,  13.,  14.,  15.,  16.,  17.,  18.,  19.])"
            ]
          },
          "metadata": {},
          "execution_count": 37
        }
      ]
    },
    {
      "cell_type": "code",
      "source": [
        "t2.device"
      ],
      "metadata": {
        "colab": {
          "base_uri": "https://localhost:8080/"
        },
        "id": "nJRCtDvHUsjm",
        "outputId": "89a52a4e-4131-41df-8074-276795da5f41"
      },
      "execution_count": null,
      "outputs": [
        {
          "output_type": "execute_result",
          "data": {
            "text/plain": [
              "device(type='cpu')"
            ]
          },
          "metadata": {},
          "execution_count": 38
        }
      ]
    },
    {
      "cell_type": "code",
      "source": [
        "t2 = t2.to(device)  # be device morede nazar montaghel mikonad."
      ],
      "metadata": {
        "id": "ngy_oYXmUwMr"
      },
      "execution_count": null,
      "outputs": []
    },
    {
      "cell_type": "code",
      "source": [
        "t2.device"
      ],
      "metadata": {
        "colab": {
          "base_uri": "https://localhost:8080/"
        },
        "id": "oR098HtOVN8k",
        "outputId": "e38107e6-e1d5-4675-c86d-3f58538f7ec0"
      },
      "execution_count": null,
      "outputs": [
        {
          "output_type": "execute_result",
          "data": {
            "text/plain": [
              "device(type='cuda', index=0)"
            ]
          },
          "metadata": {},
          "execution_count": 40
        }
      ]
    },
    {
      "cell_type": "code",
      "source": [
        "t2"
      ],
      "metadata": {
        "colab": {
          "base_uri": "https://localhost:8080/"
        },
        "id": "DON9ViRpVZxg",
        "outputId": "d4fe90fe-be4c-4cdd-e404-0b13908546bf"
      },
      "execution_count": null,
      "outputs": [
        {
          "output_type": "execute_result",
          "data": {
            "text/plain": [
              "tensor([400.,   1.,   2.,   3.,   4.,   5.,   6.,   7.,   8.,   9.,  10.,  11.,\n",
              "         12.,  13.,  14.,  15.,  16.,  17.,  18.,  19.], device='cuda:0')"
            ]
          },
          "metadata": {},
          "execution_count": 41
        }
      ]
    },
    {
      "cell_type": "code",
      "source": [
        "t2.numpy()"
      ],
      "metadata": {
        "colab": {
          "base_uri": "https://localhost:8080/",
          "height": 141
        },
        "id": "-ZEsBiqjVdSc",
        "outputId": "4d6d71de-3958-4da8-f48e-59f6476ad51b"
      },
      "execution_count": null,
      "outputs": [
        {
          "output_type": "error",
          "ename": "TypeError",
          "evalue": "can't convert cuda:0 device type tensor to numpy. Use Tensor.cpu() to copy the tensor to host memory first.",
          "traceback": [
            "\u001b[0;31m---------------------------------------------------------------------------\u001b[0m",
            "\u001b[0;31mTypeError\u001b[0m                                 Traceback (most recent call last)",
            "\u001b[0;32m<ipython-input-42-5b64e2288479>\u001b[0m in \u001b[0;36m<cell line: 1>\u001b[0;34m()\u001b[0m\n\u001b[0;32m----> 1\u001b[0;31m \u001b[0mt2\u001b[0m\u001b[0;34m.\u001b[0m\u001b[0mnumpy\u001b[0m\u001b[0;34m(\u001b[0m\u001b[0;34m)\u001b[0m\u001b[0;34m\u001b[0m\u001b[0;34m\u001b[0m\u001b[0m\n\u001b[0m",
            "\u001b[0;31mTypeError\u001b[0m: can't convert cuda:0 device type tensor to numpy. Use Tensor.cpu() to copy the tensor to host memory first."
          ]
        }
      ]
    },
    {
      "cell_type": "code",
      "source": [
        "a2 = t2.cpu().numpy()\n",
        "a2"
      ],
      "metadata": {
        "colab": {
          "base_uri": "https://localhost:8080/"
        },
        "id": "EeqQERW3WKhh",
        "outputId": "d2e4120c-09fa-4eba-83b7-280a50b1b2f2"
      },
      "execution_count": null,
      "outputs": [
        {
          "output_type": "execute_result",
          "data": {
            "text/plain": [
              "array([400.,   1.,   2.,   3.,   4.,   5.,   6.,   7.,   8.,   9.,  10.,\n",
              "        11.,  12.,  13.,  14.,  15.,  16.,  17.,  18.,  19.],\n",
              "      dtype=float32)"
            ]
          },
          "metadata": {},
          "execution_count": 44
        }
      ]
    },
    {
      "cell_type": "code",
      "source": [
        "a2[0] = 10\n",
        "a2"
      ],
      "metadata": {
        "colab": {
          "base_uri": "https://localhost:8080/"
        },
        "id": "OUz4yqQEWNP4",
        "outputId": "107809b0-ac77-4eeb-d1b5-d5133a5eb25a"
      },
      "execution_count": null,
      "outputs": [
        {
          "output_type": "execute_result",
          "data": {
            "text/plain": [
              "array([10.,  1.,  2.,  3.,  4.,  5.,  6.,  7.,  8.,  9., 10., 11., 12.,\n",
              "       13., 14., 15., 16., 17., 18., 19.], dtype=float32)"
            ]
          },
          "metadata": {},
          "execution_count": 45
        }
      ]
    },
    {
      "cell_type": "code",
      "source": [
        "t2"
      ],
      "metadata": {
        "colab": {
          "base_uri": "https://localhost:8080/"
        },
        "id": "8SjjsNWBWSr6",
        "outputId": "fd36f104-50d9-4d3c-a653-33769c492d33"
      },
      "execution_count": null,
      "outputs": [
        {
          "output_type": "execute_result",
          "data": {
            "text/plain": [
              "tensor([400.,   1.,   2.,   3.,   4.,   5.,   6.,   7.,   8.,   9.,  10.,  11.,\n",
              "         12.,  13.,  14.,  15.,  16.,  17.,  18.,  19.], device='cuda:0')"
            ]
          },
          "metadata": {},
          "execution_count": 46
        }
      ]
    },
    {
      "cell_type": "code",
      "source": [
        "w = torch.randn(1, requires_grad= True, dtype = torch.float, device = device)\n",
        "w"
      ],
      "metadata": {
        "colab": {
          "base_uri": "https://localhost:8080/"
        },
        "id": "AoCTR8PDWUa6",
        "outputId": "223b4337-bfb1-4f0f-8ad8-26a7272ac1fb"
      },
      "execution_count": null,
      "outputs": [
        {
          "output_type": "execute_result",
          "data": {
            "text/plain": [
              "tensor([-0.4972], device='cuda:0', requires_grad=True)"
            ]
          },
          "metadata": {},
          "execution_count": 47
        }
      ]
    },
    {
      "cell_type": "code",
      "source": [
        "#####################################################  Regression"
      ],
      "metadata": {
        "id": "yEVzn1JeWeFj"
      },
      "execution_count": null,
      "outputs": []
    },
    {
      "cell_type": "code",
      "source": [
        "import numpy as np\n",
        "true_b = 1\n",
        "true_w = 2\n",
        "N = 200\n",
        "np.random.seed(42)\n",
        "x = np.random.randn(N,1)\n",
        "e = np.random.randn(N,1) * .2\n",
        "y = true_b + true_w * x + e\n",
        "y.shape"
      ],
      "metadata": {
        "colab": {
          "base_uri": "https://localhost:8080/"
        },
        "id": "qLlxw2nLWgzT",
        "outputId": "24f58c29-5310-49d5-cd98-342fe16c3a00"
      },
      "execution_count": null,
      "outputs": [
        {
          "output_type": "execute_result",
          "data": {
            "text/plain": [
              "(200, 1)"
            ]
          },
          "metadata": {},
          "execution_count": 49
        }
      ]
    },
    {
      "cell_type": "code",
      "source": [
        "import matplotlib.pyplot as plt\n",
        "plt.style.use('ggplot')\n",
        "plt.scatter(x,y,s=2)\n",
        "plt.xlabel('x')\n",
        "plt.ylabel('y')\n",
        "plt.show()"
      ],
      "metadata": {
        "colab": {
          "base_uri": "https://localhost:8080/",
          "height": 453
        },
        "id": "bP2OonXtX2on",
        "outputId": "a9560838-b7dc-4507-ad50-adf6b18b1c6f"
      },
      "execution_count": null,
      "outputs": [
        {
          "output_type": "display_data",
          "data": {
            "text/plain": [
              "<Figure size 640x480 with 1 Axes>"
            ],
            "image/png": "[encoded data removed]"
          },
          "metadata": {}
        }
      ]
    },
    {
      "cell_type": "code",
      "source": [
        "import torch\n",
        "device = 'cuda' if torch.cuda.is_available() else 'cpu'\n",
        "torch.manual_seed(1)  # seed dar pytorch\n",
        "b = torch.randn(1, requires_grad = True, device = device)\n",
        "w = torch.randn(1, requires_grad = True, device = device)\n",
        "b,w"
      ],
      "metadata": {
        "colab": {
          "base_uri": "https://localhost:8080/"
        },
        "id": "ggvjGTScYAkK",
        "outputId": "05d4725f-e2c2-4f5a-8f7a-604bb1d99f0a"
      },
      "execution_count": null,
      "outputs": [
        {
          "output_type": "execute_result",
          "data": {
            "text/plain": [
              "(tensor([-0.2963], device='cuda:0', requires_grad=True),\n",
              " tensor([-0.6340], device='cuda:0', requires_grad=True))"
            ]
          },
          "metadata": {},
          "execution_count": 51
        }
      ]
    },
    {
      "cell_type": "code",
      "source": [
        "x = torch.tensor(x)\n",
        "x = x.to('cuda')"
      ],
      "metadata": {
        "id": "kciC_OpsaDrg"
      },
      "execution_count": null,
      "outputs": []
    },
    {
      "cell_type": "code",
      "source": [
        "x.device"
      ],
      "metadata": {
        "colab": {
          "base_uri": "https://localhost:8080/"
        },
        "id": "cscx1_jQeg2G",
        "outputId": "9f335b49-88f9-462c-8c35-e3fe80befb30"
      },
      "execution_count": null,
      "outputs": [
        {
          "output_type": "execute_result",
          "data": {
            "text/plain": [
              "device(type='cuda', index=0)"
            ]
          },
          "metadata": {},
          "execution_count": 53
        }
      ]
    },
    {
      "cell_type": "code",
      "source": [
        "y_pred = b + w * x"
      ],
      "metadata": {
        "id": "95whxeWleC0i"
      },
      "execution_count": null,
      "outputs": []
    },
    {
      "cell_type": "code",
      "source": [
        "x.requires_grad"
      ],
      "metadata": {
        "colab": {
          "base_uri": "https://localhost:8080/"
        },
        "id": "oaet2JAXelsz",
        "outputId": "c8ccb08d-d0da-4d18-efbf-2ad30eecde0d"
      },
      "execution_count": null,
      "outputs": [
        {
          "output_type": "execute_result",
          "data": {
            "text/plain": [
              "False"
            ]
          },
          "metadata": {},
          "execution_count": 55
        }
      ]
    },
    {
      "cell_type": "code",
      "source": [
        "w.detach().numpy()"
      ],
      "metadata": {
        "colab": {
          "base_uri": "https://localhost:8080/",
          "height": 141
        },
        "id": "83Wmg9nbeqwj",
        "outputId": "3d05a058-f5d9-4230-b8c2-13b545e700d2"
      },
      "execution_count": null,
      "outputs": [
        {
          "output_type": "error",
          "ename": "TypeError",
          "evalue": "can't convert cuda:0 device type tensor to numpy. Use Tensor.cpu() to copy the tensor to host memory first.",
          "traceback": [
            "\u001b[0;31m---------------------------------------------------------------------------\u001b[0m",
            "\u001b[0;31mTypeError\u001b[0m                                 Traceback (most recent call last)",
            "\u001b[0;32m<ipython-input-56-03611878a224>\u001b[0m in \u001b[0;36m<cell line: 1>\u001b[0;34m()\u001b[0m\n\u001b[0;32m----> 1\u001b[0;31m \u001b[0mw\u001b[0m\u001b[0;34m.\u001b[0m\u001b[0mdetach\u001b[0m\u001b[0;34m(\u001b[0m\u001b[0;34m)\u001b[0m\u001b[0;34m.\u001b[0m\u001b[0mnumpy\u001b[0m\u001b[0;34m(\u001b[0m\u001b[0;34m)\u001b[0m\u001b[0;34m\u001b[0m\u001b[0;34m\u001b[0m\u001b[0m\n\u001b[0m",
            "\u001b[0;31mTypeError\u001b[0m: can't convert cuda:0 device type tensor to numpy. Use Tensor.cpu() to copy the tensor to host memory first."
          ]
        }
      ]
    },
    {
      "cell_type": "code",
      "source": [
        "w"
      ],
      "metadata": {
        "colab": {
          "base_uri": "https://localhost:8080/"
        },
        "id": "6DypW3r9f87t",
        "outputId": "c04f5808-a59a-495c-da7f-34bb3bf33ac4"
      },
      "execution_count": null,
      "outputs": [
        {
          "output_type": "execute_result",
          "data": {
            "text/plain": [
              "tensor([-0.6340], device='cuda:0', requires_grad=True)"
            ]
          },
          "metadata": {},
          "execution_count": 58
        }
      ]
    },
    {
      "cell_type": "code",
      "source": [
        "y = torch.tensor(y)\n",
        "y = y.to('cuda')"
      ],
      "metadata": {
        "id": "s_TKUzIFf_ve"
      },
      "execution_count": null,
      "outputs": []
    },
    {
      "cell_type": "code",
      "source": [
        "e = torch.tensor(e)\n",
        "e = e.to('cuda')"
      ],
      "metadata": {
        "id": "z_O2R1OUiAhJ"
      },
      "execution_count": null,
      "outputs": []
    },
    {
      "cell_type": "code",
      "source": [
        "error = y_pred - y\n",
        "loss = .5*(error ** 2).mean()\n",
        "loss"
      ],
      "metadata": {
        "colab": {
          "base_uri": "https://localhost:8080/"
        },
        "id": "fWWcOXi8h1qz",
        "outputId": "c7946977-d2e8-4be6-a850-1b195a630fc1"
      },
      "execution_count": null,
      "outputs": [
        {
          "output_type": "execute_result",
          "data": {
            "text/plain": [
              "tensor(3.7842, device='cuda:0', dtype=torch.float64, grad_fn=<MulBackward0>)"
            ]
          },
          "metadata": {},
          "execution_count": 61
        }
      ]
    },
    {
      "cell_type": "code",
      "source": [
        "loss.backward()"
      ],
      "metadata": {
        "id": "QUexRXfPiUzd"
      },
      "execution_count": null,
      "outputs": []
    },
    {
      "cell_type": "code",
      "source": [
        "w.grad, b.grad"
      ],
      "metadata": {
        "colab": {
          "base_uri": "https://localhost:8080/"
        },
        "id": "pRUJGaDXiWjp",
        "outputId": "e604fa7c-8d1e-436f-e92c-dbb780d55bba"
      },
      "execution_count": null,
      "outputs": [
        {
          "output_type": "execute_result",
          "data": {
            "text/plain": [
              "(tensor([-2.2399], device='cuda:0'), tensor([-1.2061], device='cuda:0'))"
            ]
          },
          "metadata": {},
          "execution_count": 63
        }
      ]
    },
    {
      "cell_type": "code",
      "source": [
        "import numpy as np\n",
        "import torch\n",
        "true_b = torch.tensor(1)\n",
        "true_w = torch.tensor(2)\n",
        "N = 1000\n",
        "torch.manual_seed(42)\n",
        "x = torch.randn(N,1)\n",
        "e = torch.randn(N,1) * .2\n",
        "y = true_b + true_w * x + e\n",
        "y.shape"
      ],
      "metadata": {
        "colab": {
          "base_uri": "https://localhost:8080/"
        },
        "id": "ic2v94LgivlW",
        "outputId": "de3d941b-ced2-436b-a3ff-672c99bdd48c"
      },
      "execution_count": null,
      "outputs": [
        {
          "output_type": "execute_result",
          "data": {
            "text/plain": [
              "torch.Size([1000, 1])"
            ]
          },
          "metadata": {},
          "execution_count": 64
        }
      ]
    },
    {
      "cell_type": "code",
      "source": [
        "b, w, x = b.to('cuda'), w.to('cuda'), x.to('cuda')\n",
        "y, y_pred, error = y.to('cuda'), y_pred.to('cuda'), error.to('cuda')"
      ],
      "metadata": {
        "id": "bpZENkcMkkG_"
      },
      "execution_count": null,
      "outputs": []
    },
    {
      "cell_type": "code",
      "source": [
        "device"
      ],
      "metadata": {
        "colab": {
          "base_uri": "https://localhost:8080/",
          "height": 35
        },
        "id": "AkOQ8C9Yle7V",
        "outputId": "467be983-71b0-43bb-d956-d22a51a417b1"
      },
      "execution_count": null,
      "outputs": [
        {
          "output_type": "execute_result",
          "data": {
            "text/plain": [
              "'cuda'"
            ],
            "application/vnd.google.colaboratory.intrinsic+json": {
              "type": "string"
            }
          },
          "metadata": {},
          "execution_count": 66
        }
      ]
    },
    {
      "cell_type": "code",
      "source": [
        "device = 'cuda' if torch.cuda.is_available() else 'cpu'\n",
        "torch.manual_seed(1)\n",
        "b = torch.randn(1, requires_grad = True, device = device)\n",
        "w = torch.randn(1, requires_grad = True, device = device)\n",
        "lr = 0.1\n",
        "losses = []\n",
        "epoch = 200\n",
        "\n",
        "for _ in range(epoch):\n",
        "    y_pred = b + w * x\n",
        "    error = y_pred - y\n",
        "    loss = .5*(error ** 2).mean()\n",
        "    losses.append(loss.item())\n",
        "    loss.backward()\n",
        "    with torch.no_grad():\n",
        "        w -= lr*w.grad\n",
        "        b -= lr*b.grad\n",
        "    w.grad.zero_()\n",
        "    b.grad.zero_()\n",
        "\n",
        "\n",
        "print('loss = ', loss.item(), 'b = ',b.item(),'w = ',w.item())\n",
        "plt.plot(range(epoch),losses)\n",
        "plt.xlabel('Epoches')\n",
        "plt.ylabel('Losses')\n",
        "plt.show()"
      ],
      "metadata": {
        "colab": {
          "base_uri": "https://localhost:8080/",
          "height": 470
        },
        "id": "6LaEiHt0ixRd",
        "outputId": "e4409814-03f1-47e9-dbd1-329d5e363eff"
      },
      "execution_count": null,
      "outputs": [
        {
          "output_type": "stream",
          "name": "stdout",
          "text": [
            "loss =  0.021251579746603966 b =  0.9922093152999878 w =  2.004281520843506\n"
          ]
        },
        {
          "output_type": "display_data",
          "data": {
            "text/plain": [
              "<Figure size 640x480 with 1 Axes>"
            ],
            "image/png": "[encoded data removed]"
          },
          "metadata": {}
        }
      ]
    },
    {
      "cell_type": "code",
      "source": [
        "import numpy as np\n",
        "import torch\n",
        "device = 'cuda' if torch.cuda.is_available() else 'cpu'\n",
        "true_b = torch.tensor(1,device=device)\n",
        "true_w = torch.tensor(2,device = device)\n",
        "N = 1000\n",
        "torch.manual_seed(42)\n",
        "x = torch.randn(N,1).to(device)\n",
        "e = torch.randn(N,1).to(device) * .2\n",
        "y = true_b + true_w * x + e\n",
        "y.shape"
      ],
      "metadata": {
        "colab": {
          "base_uri": "https://localhost:8080/"
        },
        "id": "c0Gt8D_6vDov",
        "outputId": "a92a7e7f-d2f5-4caa-e8d6-7711f4f31d83"
      },
      "execution_count": null,
      "outputs": [
        {
          "output_type": "execute_result",
          "data": {
            "text/plain": [
              "torch.Size([1000, 1])"
            ]
          },
          "metadata": {},
          "execution_count": 68
        }
      ]
    },
    {
      "cell_type": "code",
      "source": [
        "from torch import optim\n",
        "from torch import nn\n",
        "import matplotlib.pyplot as plt\n",
        "\n",
        "torch.manual_seed(1)\n",
        "b = torch.randn(1, requires_grad = True, device = device)\n",
        "w = torch.randn(1, requires_grad = True, device = device)\n",
        "lr = 0.1\n",
        "losses = []\n",
        "epoch = 200\n",
        "optimizer = optim.SGD([b,w], lr = lr)  # dada ha ra  be soorate batch midahad.\n",
        "for _ in range(epoch):\n",
        "    y_pred = b + w * x\n",
        "    loss_fn = nn.MSELoss()\n",
        "    loss = loss_fn(y_pred, y)\n",
        "    losses.append(loss.detach().cpu().item())    #Mohem\n",
        "    loss.backward()\n",
        "    optimizer.step()\n",
        "    optimizer.zero_grad()\n",
        "\n",
        "print('loss = ', loss.item(), 'b = ',b.item(),'w = ',w.item())\n",
        "plt.plot(range(epoch),losses)\n",
        "plt.xlabel('Epoches')\n",
        "plt.ylabel('Losses')\n",
        "plt.show()"
      ],
      "metadata": {
        "colab": {
          "base_uri": "https://localhost:8080/",
          "height": 470
        },
        "id": "XppoyX56m-aA",
        "outputId": "f47ebbce-f495-4181-aa2b-60c26b69340e"
      },
      "execution_count": null,
      "outputs": [
        {
          "output_type": "stream",
          "name": "stdout",
          "text": [
            "loss =  0.04250315949320793 b =  0.9922094941139221 w =  2.004281997680664\n"
          ]
        },
        {
          "output_type": "display_data",
          "data": {
            "text/plain": [
              "<Figure size 640x480 with 1 Axes>"
            ],
            "image/png": "[encoded data removed]"
          },
          "metadata": {}
        }
      ]
    },
    {
      "cell_type": "code",
      "source": [
        "a = range(1,100,6)\n",
        "a"
      ],
      "metadata": {
        "colab": {
          "base_uri": "https://localhost:8080/"
        },
        "id": "FVRL7N_toIO0",
        "outputId": "8fe5ca97-0801-480f-e490-e501adfbd880"
      },
      "execution_count": null,
      "outputs": [
        {
          "output_type": "execute_result",
          "data": {
            "text/plain": [
              "range(1, 100, 6)"
            ]
          },
          "metadata": {},
          "execution_count": 70
        }
      ]
    },
    {
      "cell_type": "code",
      "source": [
        "len(a)"
      ],
      "metadata": {
        "colab": {
          "base_uri": "https://localhost:8080/"
        },
        "id": "gMl3MXjeoUzh",
        "outputId": "f78e1109-28b9-43d3-c634-5e09729c4b8f"
      },
      "execution_count": null,
      "outputs": [
        {
          "output_type": "execute_result",
          "data": {
            "text/plain": [
              "17"
            ]
          },
          "metadata": {},
          "execution_count": 71
        }
      ]
    },
    {
      "cell_type": "code",
      "source": [
        "a[0:16]"
      ],
      "metadata": {
        "colab": {
          "base_uri": "https://localhost:8080/"
        },
        "id": "5ZlEi8ICozLL",
        "outputId": "55740666-2f52-4c81-85b6-2e7acecced20"
      },
      "execution_count": null,
      "outputs": [
        {
          "output_type": "execute_result",
          "data": {
            "text/plain": [
              "range(1, 97, 6)"
            ]
          },
          "metadata": {},
          "execution_count": 72
        }
      ]
    },
    {
      "cell_type": "code",
      "source": [
        "list(a)"
      ],
      "metadata": {
        "colab": {
          "base_uri": "https://localhost:8080/"
        },
        "id": "7wFjN3Uho8VX",
        "outputId": "2d68e9e5-f2bc-4b81-a493-3b3d15bd19b9"
      },
      "execution_count": null,
      "outputs": [
        {
          "output_type": "execute_result",
          "data": {
            "text/plain": [
              "[1, 7, 13, 19, 25, 31, 37, 43, 49, 55, 61, 67, 73, 79, 85, 91, 97]"
            ]
          },
          "metadata": {},
          "execution_count": 73
        }
      ]
    },
    {
      "cell_type": "code",
      "source": [
        "class crange:\n",
        "\n",
        "  def __init__(self, start, stop, step):\n",
        "    self.start = start\n",
        "    self.stop = stop\n",
        "    self.step = step\n",
        "\n",
        "  def __getitem__(self, index):   # tabdil be iterator mishavad\n",
        "    value = self.start + self.step * index\n",
        "    if value >= self.stop:\n",
        "      raise IndexError('index out of range')\n",
        "    return value\n",
        "\n",
        "  def __len__(self):\n",
        "    return (self.stop - self.start)//self.step\n",
        "\n",
        "  def __repr__(self):\n",
        "    return f'crange({self.start},{self.stop},{self.step})'\n",
        "\n"
      ],
      "metadata": {
        "id": "uRHupgnSoWdU"
      },
      "execution_count": null,
      "outputs": []
    },
    {
      "cell_type": "code",
      "source": [
        "c = crange(1,100,6)\n",
        "c"
      ],
      "metadata": {
        "colab": {
          "base_uri": "https://localhost:8080/"
        },
        "id": "3S4-aQuHeDtZ",
        "outputId": "9b6fa883-2f2d-479d-e91b-371783ea90a5"
      },
      "execution_count": null,
      "outputs": [
        {
          "output_type": "execute_result",
          "data": {
            "text/plain": [
              "crange(1,100,6)"
            ]
          },
          "metadata": {},
          "execution_count": 75
        }
      ]
    },
    {
      "cell_type": "code",
      "source": [
        "len(c)\n"
      ],
      "metadata": {
        "colab": {
          "base_uri": "https://localhost:8080/"
        },
        "id": "QtK7Mn_WeGng",
        "outputId": "405a832a-65e3-471e-9af9-dcd22da0ccc8"
      },
      "execution_count": null,
      "outputs": [
        {
          "output_type": "execute_result",
          "data": {
            "text/plain": [
              "16"
            ]
          },
          "metadata": {},
          "execution_count": 76
        }
      ]
    },
    {
      "cell_type": "code",
      "source": [
        "list(c)"
      ],
      "metadata": {
        "colab": {
          "base_uri": "https://localhost:8080/"
        },
        "id": "YOHMi5eKedDz",
        "outputId": "5086fe31-300b-4fbf-99e5-89ced1d97872"
      },
      "execution_count": null,
      "outputs": [
        {
          "output_type": "execute_result",
          "data": {
            "text/plain": [
              "[1, 7, 13, 19, 25, 31, 37, 43, 49, 55, 61, 67, 73, 79, 85, 91, 97]"
            ]
          },
          "metadata": {},
          "execution_count": 77
        }
      ]
    },
    {
      "cell_type": "code",
      "source": [
        "c[2]"
      ],
      "metadata": {
        "colab": {
          "base_uri": "https://localhost:8080/"
        },
        "id": "lx9KF-4Ge0GD",
        "outputId": "a6769c90-93e9-4706-b72b-48144ba4a268"
      },
      "execution_count": null,
      "outputs": [
        {
          "output_type": "execute_result",
          "data": {
            "text/plain": [
              "13"
            ]
          },
          "metadata": {},
          "execution_count": 78
        }
      ]
    },
    {
      "cell_type": "code",
      "source": [
        "c[1000]"
      ],
      "metadata": {
        "colab": {
          "base_uri": "https://localhost:8080/",
          "height": 263
        },
        "id": "cHoMYoV2fPPb",
        "outputId": "529a7129-0d1f-45c1-e621-06e983ee10ee"
      },
      "execution_count": null,
      "outputs": [
        {
          "output_type": "error",
          "ename": "IndexError",
          "evalue": "index out of range",
          "traceback": [
            "\u001b[0;31m---------------------------------------------------------------------------\u001b[0m",
            "\u001b[0;31mIndexError\u001b[0m                                Traceback (most recent call last)",
            "\u001b[0;32m<ipython-input-79-8abf4e50a20c>\u001b[0m in \u001b[0;36m<cell line: 1>\u001b[0;34m()\u001b[0m\n\u001b[0;32m----> 1\u001b[0;31m \u001b[0mc\u001b[0m\u001b[0;34m[\u001b[0m\u001b[0;36m1000\u001b[0m\u001b[0;34m]\u001b[0m\u001b[0;34m\u001b[0m\u001b[0;34m\u001b[0m\u001b[0m\n\u001b[0m",
            "\u001b[0;32m<ipython-input-74-af9b00713188>\u001b[0m in \u001b[0;36m__getitem__\u001b[0;34m(self, index)\u001b[0m\n\u001b[1;32m      9\u001b[0m     \u001b[0mvalue\u001b[0m \u001b[0;34m=\u001b[0m \u001b[0mself\u001b[0m\u001b[0;34m.\u001b[0m\u001b[0mstart\u001b[0m \u001b[0;34m+\u001b[0m \u001b[0mself\u001b[0m\u001b[0;34m.\u001b[0m\u001b[0mstep\u001b[0m \u001b[0;34m*\u001b[0m \u001b[0mindex\u001b[0m\u001b[0;34m\u001b[0m\u001b[0;34m\u001b[0m\u001b[0m\n\u001b[1;32m     10\u001b[0m     \u001b[0;32mif\u001b[0m \u001b[0mvalue\u001b[0m \u001b[0;34m>=\u001b[0m \u001b[0mself\u001b[0m\u001b[0;34m.\u001b[0m\u001b[0mstop\u001b[0m\u001b[0;34m:\u001b[0m\u001b[0;34m\u001b[0m\u001b[0;34m\u001b[0m\u001b[0m\n\u001b[0;32m---> 11\u001b[0;31m       \u001b[0;32mraise\u001b[0m \u001b[0mIndexError\u001b[0m\u001b[0;34m(\u001b[0m\u001b[0;34m'index out of range'\u001b[0m\u001b[0;34m)\u001b[0m\u001b[0;34m\u001b[0m\u001b[0;34m\u001b[0m\u001b[0m\n\u001b[0m\u001b[1;32m     12\u001b[0m     \u001b[0;32mreturn\u001b[0m \u001b[0mvalue\u001b[0m\u001b[0;34m\u001b[0m\u001b[0;34m\u001b[0m\u001b[0m\n\u001b[1;32m     13\u001b[0m \u001b[0;34m\u001b[0m\u001b[0m\n",
            "\u001b[0;31mIndexError\u001b[0m: index out of range"
          ]
        }
      ]
    },
    {
      "cell_type": "code",
      "source": [
        "for i in c:\n",
        "  print(i)"
      ],
      "metadata": {
        "colab": {
          "base_uri": "https://localhost:8080/"
        },
        "id": "OSSH-fx5fTN5",
        "outputId": "2c906150-ff37-4cac-e9c7-1d711c5c8109"
      },
      "execution_count": null,
      "outputs": [
        {
          "output_type": "stream",
          "name": "stdout",
          "text": [
            "1\n",
            "7\n",
            "13\n",
            "19\n",
            "25\n",
            "31\n",
            "37\n",
            "43\n",
            "49\n",
            "55\n",
            "61\n",
            "67\n",
            "73\n",
            "79\n",
            "85\n",
            "91\n",
            "97\n"
          ]
        }
      ]
    },
    {
      "cell_type": "code",
      "source": [
        "from torch import optim\n",
        "from torch import nn\n",
        "import torch\n",
        "\n",
        "class ManualRegression(nn.Module):\n",
        "  def __init__(self, *args, **kwargs):\n",
        "    super().__init__(*args, **kwargs)\n",
        "    self.b = nn.Parameter(torch.randn(1,requires_grad=True, dtype= torch.float))\n",
        "    self.w = nn.Parameter(torch.randn(1,requires_grad=True, dtype= torch.float))\n",
        "\n",
        "  def forward(self, x):\n",
        "    return self.b + self.w * x"
      ],
      "metadata": {
        "id": "hByoaC-5fUtH"
      },
      "execution_count": null,
      "outputs": []
    },
    {
      "cell_type": "code",
      "source": [
        "model = ManualRegression()"
      ],
      "metadata": {
        "id": "JEHPXr3ggA2z"
      },
      "execution_count": null,
      "outputs": []
    },
    {
      "cell_type": "code",
      "source": [
        "model"
      ],
      "metadata": {
        "colab": {
          "base_uri": "https://localhost:8080/"
        },
        "id": "YrxmK77WgD7-",
        "outputId": "18b96827-d451-455f-ae1b-8a104d3eb802"
      },
      "execution_count": null,
      "outputs": [
        {
          "output_type": "execute_result",
          "data": {
            "text/plain": [
              "ManualRegression()"
            ]
          },
          "metadata": {},
          "execution_count": 84
        }
      ]
    },
    {
      "cell_type": "code",
      "source": [
        "model.state_dict()   # vizhegihaye model ra midahad."
      ],
      "metadata": {
        "colab": {
          "base_uri": "https://localhost:8080/"
        },
        "id": "G53jCu2ygJbO",
        "outputId": "63098ef4-37af-4fc9-bdad-4cd764ce3dd3"
      },
      "execution_count": null,
      "outputs": [
        {
          "output_type": "execute_result",
          "data": {
            "text/plain": [
              "OrderedDict([('b', tensor([0.6614])), ('w', tensor([0.2669]))])"
            ]
          },
          "metadata": {},
          "execution_count": 85
        }
      ]
    },
    {
      "cell_type": "code",
      "source": [
        "list(model.parameters())"
      ],
      "metadata": {
        "colab": {
          "base_uri": "https://localhost:8080/"
        },
        "id": "M5jYRs6CgdMH",
        "outputId": "8217660c-48c3-4b2f-c505-b1138613f6cc"
      },
      "execution_count": null,
      "outputs": [
        {
          "output_type": "execute_result",
          "data": {
            "text/plain": [
              "[Parameter containing:\n",
              " tensor([0.6614], requires_grad=True),\n",
              " Parameter containing:\n",
              " tensor([0.2669], requires_grad=True)]"
            ]
          },
          "metadata": {},
          "execution_count": 86
        }
      ]
    },
    {
      "cell_type": "code",
      "source": [
        "x.device"
      ],
      "metadata": {
        "colab": {
          "base_uri": "https://localhost:8080/"
        },
        "id": "ptfIXlaPgmgZ",
        "outputId": "79e3c65f-5a24-4764-f8ca-e1ad6078a599"
      },
      "execution_count": null,
      "outputs": [
        {
          "output_type": "execute_result",
          "data": {
            "text/plain": [
              "device(type='cuda', index=0)"
            ]
          },
          "metadata": {},
          "execution_count": 87
        }
      ]
    },
    {
      "cell_type": "code",
      "source": [
        "lr = .1\n",
        "model = ManualRegression()\n",
        "model.to(device)\n",
        "optimizer = optim.SGD(model.parameters(), lr = lr)\n",
        "loss_fn = nn.MSELoss()\n",
        "epochs = 1000\n",
        "losses = []\n",
        "for _ in range(epochs):\n",
        "    model.train()\n",
        "    y_pred = model(x)\n",
        "    loss = loss_fn(y_pred, y)\n",
        "    losses.append(loss.detach().cpu().item())\n",
        "    loss.backward()\n",
        "    optimizer.step()\n",
        "    optimizer.zero_grad()"
      ],
      "metadata": {
        "id": "28GYWJsHgpPb"
      },
      "execution_count": null,
      "outputs": []
    },
    {
      "cell_type": "code",
      "source": [
        "model.state_dict()"
      ],
      "metadata": {
        "colab": {
          "base_uri": "https://localhost:8080/"
        },
        "id": "UHpJT4IagxMM",
        "outputId": "a90163ca-fe05-42bd-e6eb-51016b3b82be"
      },
      "execution_count": null,
      "outputs": [
        {
          "output_type": "execute_result",
          "data": {
            "text/plain": [
              "OrderedDict([('b', tensor([0.9922], device='cuda:0')),\n",
              "             ('w', tensor([2.0043], device='cuda:0'))])"
            ]
          },
          "metadata": {},
          "execution_count": 89
        }
      ]
    },
    {
      "cell_type": "code",
      "source": [
        "from torch import optim\n",
        "from torch import nn\n",
        "import torch\n",
        "\n",
        "class ManualRegression(nn.Module):\n",
        "  def __init__(self, *args, **kwargs):\n",
        "    super().__init__(*args, **kwargs)\n",
        "    self.linear = nn.Linear(1,1)\n",
        "\n",
        "  def forward(self, x):\n",
        "    return self.linear(x)"
      ],
      "metadata": {
        "id": "l9F6QbEmjHnE"
      },
      "execution_count": null,
      "outputs": []
    },
    {
      "cell_type": "code",
      "source": [
        "model = ManualRegression()\n",
        "model.state_dict()"
      ],
      "metadata": {
        "colab": {
          "base_uri": "https://localhost:8080/"
        },
        "id": "JSmNjcVpjMLj",
        "outputId": "787b23e6-d51a-4e57-cbf8-cb338a01721c"
      },
      "execution_count": null,
      "outputs": [
        {
          "output_type": "execute_result",
          "data": {
            "text/plain": [
              "OrderedDict([('linear.weight', tensor([[0.1390]])),\n",
              "             ('linear.bias', tensor([-0.1224]))])"
            ]
          },
          "metadata": {},
          "execution_count": 91
        }
      ]
    },
    {
      "cell_type": "code",
      "source": [
        "lr = .1\n",
        "model = ManualRegression()\n",
        "model.to(device)\n",
        "optimizer = optim.SGD(model.parameters(), lr = lr)\n",
        "loss_fn = nn.MSELoss()\n",
        "epochs = 1000\n",
        "losses = []\n",
        "for _ in range(epochs):\n",
        "    model.train()\n",
        "    y_pred = model(x)\n",
        "    loss = loss_fn(y_pred, y)\n",
        "    losses.append(loss.detach().cpu().item())\n",
        "    loss.backward()\n",
        "    optimizer.step()\n",
        "    optimizer.zero_grad()"
      ],
      "metadata": {
        "id": "4UpslCXFjbGZ"
      },
      "execution_count": null,
      "outputs": []
    },
    {
      "cell_type": "code",
      "source": [
        "model.state_dict()"
      ],
      "metadata": {
        "colab": {
          "base_uri": "https://localhost:8080/"
        },
        "id": "Yi_krLMojclZ",
        "outputId": "4be91da2-3ace-4c45-bba3-52f54875f2cf"
      },
      "execution_count": null,
      "outputs": [
        {
          "output_type": "execute_result",
          "data": {
            "text/plain": [
              "OrderedDict([('linear.weight', tensor([[2.0043]], device='cuda:0')),\n",
              "             ('linear.bias', tensor([0.9922], device='cuda:0'))])"
            ]
          },
          "metadata": {},
          "execution_count": 93
        }
      ]
    },
    {
      "cell_type": "code",
      "source": [
        "from torch import optim\n",
        "from torch import nn\n",
        "import torch\n",
        "\n",
        "class HouseRegression(nn.Module):\n",
        "  def __init__(self, in_features):\n",
        "    super().__init__()\n",
        "    self.fc1 = nn.Linear(in_features,200)\n",
        "    self.fc2 = nn.Linear(200,300)\n",
        "    self.fc3 = nn.Linear(300,100)\n",
        "    self.fc4 = nn.Linear(100,1)\n",
        "    self.relu = nn.ReLU()\n",
        "\n",
        "  def forward(self, x):\n",
        "    x = self.fc1(x)\n",
        "    x = self.relu(x)\n",
        "    x = self.fc2(x)\n",
        "    x = self.relu(x)\n",
        "    x = self.fc3(x)\n",
        "    x = self.relu(x)\n",
        "    x = self.fc4(x)\n",
        "    return x"
      ],
      "metadata": {
        "id": "ihkiQtoujgeL"
      },
      "execution_count": null,
      "outputs": []
    },
    {
      "cell_type": "code",
      "source": [
        "len(list(model.parameters()))"
      ],
      "metadata": {
        "colab": {
          "base_uri": "https://localhost:8080/"
        },
        "id": "cihoO1Rll9HU",
        "outputId": "68c37ca9-94f2-47e3-b6b9-15d7d1fca9e7"
      },
      "execution_count": null,
      "outputs": [
        {
          "output_type": "execute_result",
          "data": {
            "text/plain": [
              "8"
            ]
          },
          "metadata": {},
          "execution_count": 106
        }
      ]
    },
    {
      "cell_type": "code",
      "source": [
        "list(model.parameters())"
      ],
      "metadata": {
        "colab": {
          "base_uri": "https://localhost:8080/"
        },
        "id": "BMZ5LFM7mRAc",
        "outputId": "9b15808e-4ac0-4a08-c336-b3879615aa2c"
      },
      "execution_count": null,
      "outputs": [
        {
          "output_type": "execute_result",
          "data": {
            "text/plain": [
              "[Parameter containing:\n",
              " tensor([[-0.0904,  0.0426, -0.0660,  ...,  0.0213,  0.1030, -0.1116],\n",
              "         [-0.0121,  0.0422,  0.1124,  ...,  0.0119,  0.0018, -0.1219],\n",
              "         [ 0.0128,  0.0069,  0.0407,  ..., -0.0311, -0.0749,  0.0842],\n",
              "         ...,\n",
              "         [ 0.0949,  0.0429, -0.0217,  ...,  0.0138,  0.0840, -0.0358],\n",
              "         [ 0.0675,  0.0580, -0.0727,  ...,  0.0510,  0.0046, -0.0773],\n",
              "         [-0.0578, -0.0406, -0.1164,  ..., -0.1178,  0.0681,  0.0221]],\n",
              "        device='cuda:0', requires_grad=True),\n",
              " Parameter containing:\n",
              " tensor([-4.5533e-02, -4.5500e-02,  1.7985e-02,  7.7566e-03, -5.5815e-03,\n",
              "          4.3918e-02, -9.3528e-02,  2.9454e-02, -1.1773e-01, -2.2158e-02,\n",
              "          5.1680e-02,  4.5280e-03, -3.2237e-02,  9.3322e-02,  9.2800e-02,\n",
              "          1.1937e-01,  4.6322e-02, -9.2652e-02,  1.2240e-01,  6.9172e-02,\n",
              "         -3.6186e-02, -8.5324e-02,  9.5809e-02,  4.6131e-02,  1.1572e-01,\n",
              "         -6.1698e-02, -1.5087e-02,  3.7156e-02, -2.7368e-02,  3.1326e-03,\n",
              "          3.0278e-02,  5.7718e-02, -6.1588e-02, -6.7212e-02, -8.9396e-02,\n",
              "         -1.0400e-01,  1.0726e-01, -8.0295e-02,  9.4053e-02,  7.0884e-02,\n",
              "         -3.0570e-02, -3.1418e-02, -4.2142e-02,  5.3019e-02, -7.6923e-02,\n",
              "          1.0475e-01,  6.0682e-02, -1.0078e-01,  1.0503e-01, -6.3903e-02,\n",
              "          7.0227e-02, -6.6406e-02, -8.5948e-03, -9.1180e-03, -2.7367e-03,\n",
              "         -3.3600e-02,  6.3873e-02,  1.0561e-01, -9.4600e-02, -1.0280e-01,\n",
              "          7.1311e-02,  9.5602e-02, -2.7373e-02, -2.3656e-02,  7.0915e-02,\n",
              "         -1.1878e-01, -2.8262e-02,  6.0358e-02, -5.5990e-02,  2.5148e-02,\n",
              "         -4.5791e-02,  4.1090e-03, -4.2771e-02,  8.0489e-02, -6.9244e-02,\n",
              "         -2.3660e-02,  5.7811e-02, -9.0625e-02,  2.4149e-02,  3.5483e-02,\n",
              "          7.4762e-02, -1.7180e-02, -9.4893e-02,  3.0644e-02, -4.1967e-03,\n",
              "         -1.0749e-01, -6.7282e-02, -3.2045e-02, -8.3107e-02,  2.6419e-03,\n",
              "          3.7641e-02, -5.6895e-02,  3.1926e-02, -5.4930e-02, -3.2479e-02,\n",
              "         -8.9607e-02,  5.3971e-02,  9.7686e-02, -1.8631e-02,  2.7708e-02,\n",
              "         -1.1282e-01,  4.9370e-02,  3.2688e-02, -3.7161e-02,  7.6352e-02,\n",
              "         -3.2467e-03,  8.2464e-02, -5.5220e-02,  2.9378e-02,  3.9397e-02,\n",
              "          2.9142e-05,  2.9849e-02, -6.8825e-02,  2.5966e-02, -1.2258e-01,\n",
              "         -1.0997e-01, -2.8891e-02, -1.7215e-02, -4.6172e-02,  3.9756e-02,\n",
              "         -6.1903e-02, -6.3340e-02,  5.0529e-02,  6.9002e-02, -5.4355e-02,\n",
              "         -1.1557e-01,  8.6224e-02,  3.0897e-02,  1.0889e-01,  1.2207e-02,\n",
              "          1.1551e-01,  6.8620e-02,  2.3728e-02,  1.1252e-01, -1.0969e-01,\n",
              "          3.1711e-03,  7.2125e-02,  2.2139e-02, -1.7885e-02, -1.2853e-02,\n",
              "         -3.7739e-02, -4.7754e-02, -8.7486e-02,  8.1733e-02,  4.1644e-02,\n",
              "         -7.3931e-02,  3.4038e-02, -5.0171e-02, -9.5765e-02, -6.9368e-02,\n",
              "         -1.1028e-02,  8.6397e-02, -2.3563e-02, -3.0823e-02, -2.5543e-02,\n",
              "          8.6073e-03,  1.1572e-01,  5.9925e-02, -6.9257e-02,  1.1728e-01,\n",
              "         -4.9112e-02, -9.3215e-02, -8.0908e-02,  4.9616e-02, -7.9881e-02,\n",
              "          6.5156e-02, -6.9733e-02,  2.6858e-02, -5.5761e-02,  1.6162e-02,\n",
              "          8.2966e-02, -1.9184e-02, -7.2489e-03,  1.8661e-02, -3.4063e-02,\n",
              "          4.5541e-02,  6.6775e-02,  6.6708e-02, -3.8290e-02,  5.6886e-02,\n",
              "         -9.5008e-02, -1.1525e-01,  3.7757e-03,  4.2315e-02,  8.7378e-02,\n",
              "          1.1859e-01, -2.1736e-02, -1.1008e-01,  8.9930e-02, -9.9507e-02,\n",
              "          2.2232e-02,  1.1808e-01,  3.3894e-02,  1.0164e-01, -1.1475e-01,\n",
              "          6.3758e-02, -6.4669e-02,  4.3079e-02,  1.1028e-01,  1.0859e-01],\n",
              "        device='cuda:0', requires_grad=True),\n",
              " Parameter containing:\n",
              " tensor([[-0.0031,  0.0423,  0.0562,  ..., -0.0466,  0.0370, -0.0090],\n",
              "         [ 0.0608,  0.0422, -0.0291,  ..., -0.0422,  0.0318,  0.0513],\n",
              "         [ 0.0351,  0.0591, -0.0335,  ...,  0.0220,  0.0402,  0.0378],\n",
              "         ...,\n",
              "         [-0.0490, -0.0390,  0.0180,  ...,  0.0456,  0.0302, -0.0562],\n",
              "         [ 0.0068,  0.0622,  0.0705,  ...,  0.0087,  0.0288, -0.0366],\n",
              "         [-0.0084, -0.0041,  0.0637,  ...,  0.0647,  0.0668, -0.0002]],\n",
              "        device='cuda:0', requires_grad=True),\n",
              " Parameter containing:\n",
              " tensor([-3.6832e-02,  3.1787e-05, -4.4070e-03,  2.4361e-02, -6.7060e-02,\n",
              "         -9.2923e-03,  5.1351e-03, -4.5357e-02,  6.5172e-02,  3.5159e-02,\n",
              "         -6.2311e-02, -6.3960e-02,  2.6786e-02,  3.9877e-02,  2.3882e-02,\n",
              "          3.5518e-02,  1.5475e-02,  5.2307e-02, -6.9733e-02,  5.8314e-02,\n",
              "          6.9992e-02, -3.6848e-03, -2.4964e-02,  3.2493e-02,  3.9430e-02,\n",
              "         -2.9424e-02, -7.1670e-03,  5.6916e-02, -1.4002e-02, -6.3475e-02,\n",
              "         -3.6741e-02,  2.4567e-02,  3.7134e-02, -4.4860e-02, -1.0861e-02,\n",
              "         -2.2029e-02, -2.0157e-02, -1.1382e-02,  1.0738e-02, -2.7009e-02,\n",
              "         -2.5520e-03,  5.2833e-02,  5.6845e-02, -6.0555e-02,  2.4097e-02,\n",
              "          1.8511e-02,  1.6334e-02, -3.2599e-02,  6.8517e-02,  1.6501e-02,\n",
              "         -1.0761e-02,  5.2789e-02,  4.7975e-02,  4.7660e-02, -1.0116e-02,\n",
              "          5.8777e-02,  4.2217e-02,  5.1020e-02,  5.8277e-02,  5.1469e-02,\n",
              "         -4.6726e-02,  2.8673e-03,  9.8175e-04,  4.1867e-02, -1.9858e-02,\n",
              "         -6.9475e-03, -5.1083e-02,  6.6439e-02, -6.8906e-02,  5.6760e-02,\n",
              "          3.2043e-02,  2.8630e-02,  3.3294e-02,  7.0143e-02,  4.1350e-02,\n",
              "         -2.8516e-02, -1.4898e-02, -4.7341e-02, -5.0476e-02,  6.2691e-02,\n",
              "         -6.9385e-02, -1.8861e-02,  5.8856e-02,  6.9095e-02, -4.1691e-02,\n",
              "         -4.4945e-02,  4.5042e-02,  5.5476e-03,  4.8690e-02, -3.4439e-02,\n",
              "          4.3578e-02, -1.3518e-02, -4.1918e-02,  8.5095e-03, -5.6111e-02,\n",
              "          6.9419e-02, -1.7134e-02, -6.3636e-02, -4.8839e-02,  1.8266e-02,\n",
              "         -5.6944e-02, -3.7612e-02,  2.3463e-03,  1.3171e-02,  3.5145e-02,\n",
              "          1.5288e-02,  4.1596e-02, -4.1391e-02, -1.8478e-02, -4.5641e-02,\n",
              "          3.8217e-02,  6.1123e-03, -3.1265e-02,  4.5377e-02, -4.3891e-02,\n",
              "          3.7713e-02, -5.6894e-02, -2.7245e-02, -4.2693e-02, -3.9264e-02,\n",
              "         -2.7191e-02, -1.4745e-02, -2.2762e-02, -8.0215e-03,  1.7691e-02,\n",
              "         -4.4120e-02, -2.0909e-02, -5.4662e-02, -4.8693e-02,  4.5517e-02,\n",
              "         -5.3645e-02,  6.2093e-02, -4.5389e-02,  2.4507e-02,  4.3849e-03,\n",
              "         -5.1091e-02,  6.3270e-02, -1.5335e-02, -3.9958e-02, -4.8278e-02,\n",
              "         -7.1018e-03,  3.8559e-02,  3.4909e-02,  5.7662e-02, -5.2003e-03,\n",
              "          4.6310e-03, -2.2283e-02,  6.7176e-02,  7.2881e-03, -5.3931e-02,\n",
              "          2.4387e-02, -2.7580e-02,  1.1202e-02,  1.9316e-02,  4.1294e-02,\n",
              "         -3.5800e-02,  6.2793e-02,  6.0943e-02,  4.3910e-02,  3.8230e-02,\n",
              "          3.4273e-02, -6.7029e-02,  1.1108e-02,  5.3015e-02,  5.8872e-02,\n",
              "          4.5169e-02,  3.1166e-04, -3.7745e-02, -5.8048e-02,  6.3822e-02,\n",
              "         -3.4694e-02, -2.0225e-02,  5.3591e-02, -8.1278e-03, -4.6826e-03,\n",
              "         -6.4938e-02, -1.1264e-03, -2.6539e-02, -3.1153e-02,  5.9213e-02,\n",
              "          4.4366e-02, -5.5022e-02,  9.2560e-04, -2.4680e-02,  3.4511e-02,\n",
              "         -6.0910e-03,  3.3427e-02, -2.7031e-02, -2.8025e-02, -3.0073e-02,\n",
              "         -4.7211e-02,  6.4792e-02,  2.5834e-02, -3.5367e-02,  4.5434e-02,\n",
              "         -7.3046e-03,  2.3960e-02, -8.9580e-03, -2.3659e-02, -2.8416e-02,\n",
              "          6.5011e-02, -3.3160e-02,  3.4299e-02, -2.2431e-02, -2.6432e-02,\n",
              "          5.6667e-03,  5.4853e-02,  1.8265e-02,  5.6114e-02, -2.5192e-02,\n",
              "          6.8196e-02,  2.8721e-02,  3.4339e-02,  1.1513e-02,  1.8012e-02,\n",
              "          3.6732e-03, -3.7086e-02, -6.6507e-02, -5.4903e-02,  1.8267e-02,\n",
              "         -1.1466e-02, -5.1147e-02,  2.7057e-02,  4.7080e-02,  5.7118e-02,\n",
              "         -3.7951e-02, -3.2826e-02,  2.0834e-02,  5.1470e-02,  1.6269e-02,\n",
              "          3.7513e-02,  5.4266e-02, -3.6550e-02, -3.5737e-02, -3.9794e-02,\n",
              "         -3.7708e-02, -6.7479e-02,  3.6364e-03,  7.7246e-03, -7.2657e-03,\n",
              "         -4.4738e-02,  2.5230e-02, -5.5712e-02, -2.3069e-02,  4.9929e-02,\n",
              "         -1.2358e-02, -5.1581e-02, -1.6942e-02, -5.6944e-02, -6.5335e-02,\n",
              "         -1.8486e-03, -6.9706e-02,  3.0888e-02, -3.8980e-02,  4.4996e-02,\n",
              "          1.1537e-02,  8.0692e-03, -3.6995e-02,  5.0585e-02,  5.9783e-02,\n",
              "         -6.4092e-02, -5.2558e-02, -4.0492e-03, -4.3955e-02,  4.5699e-02,\n",
              "         -2.2270e-02,  1.1982e-02,  2.3604e-02,  3.0392e-02, -2.7367e-02,\n",
              "          3.3274e-02,  8.3496e-03,  1.5266e-02,  6.5824e-02, -6.5659e-02,\n",
              "          4.5709e-02,  1.4639e-02, -6.3764e-02, -2.0807e-02,  4.1090e-02,\n",
              "         -3.8553e-02, -6.6643e-02, -6.8364e-02, -8.1646e-03, -6.3750e-02,\n",
              "          6.3791e-02,  5.7200e-02,  1.3267e-02,  6.1233e-02,  3.4328e-02,\n",
              "         -1.2151e-02, -3.4238e-03, -1.5699e-02,  6.3494e-02,  6.2665e-02,\n",
              "         -3.6540e-02,  5.5416e-02,  5.9367e-02, -5.2237e-02,  1.1135e-02],\n",
              "        device='cuda:0', requires_grad=True),\n",
              " Parameter containing:\n",
              " tensor([[-0.0378,  0.0044,  0.0544,  ..., -0.0242,  0.0088,  0.0528],\n",
              "         [-0.0227,  0.0338,  0.0185,  ...,  0.0396, -0.0512,  0.0280],\n",
              "         [-0.0570, -0.0346, -0.0123,  ...,  0.0117, -0.0498, -0.0206],\n",
              "         ...,\n",
              "         [-0.0505,  0.0001,  0.0199,  ..., -0.0481, -0.0558, -0.0078],\n",
              "         [-0.0395,  0.0486,  0.0171,  ...,  0.0396, -0.0530, -0.0031],\n",
              "         [ 0.0431,  0.0132,  0.0154,  ...,  0.0186,  0.0429, -0.0015]],\n",
              "        device='cuda:0', requires_grad=True),\n",
              " Parameter containing:\n",
              " tensor([ 0.0035, -0.0168, -0.0201,  0.0136, -0.0465, -0.0141, -0.0258,  0.0423,\n",
              "         -0.0108, -0.0533, -0.0415,  0.0024, -0.0242,  0.0009,  0.0089, -0.0384,\n",
              "          0.0535, -0.0302, -0.0525, -0.0332, -0.0465, -0.0163, -0.0320, -0.0244,\n",
              "          0.0423, -0.0451,  0.0212, -0.0215, -0.0342, -0.0042, -0.0341,  0.0364,\n",
              "          0.0462,  0.0107,  0.0368, -0.0349,  0.0555,  0.0341,  0.0222, -0.0438,\n",
              "          0.0541, -0.0038, -0.0426, -0.0482, -0.0568,  0.0062,  0.0071,  0.0565,\n",
              "          0.0171,  0.0361, -0.0114, -0.0029,  0.0056,  0.0386,  0.0254, -0.0190,\n",
              "          0.0263,  0.0430,  0.0280, -0.0370,  0.0333,  0.0220,  0.0511, -0.0545,\n",
              "         -0.0230,  0.0010,  0.0134,  0.0494, -0.0192, -0.0176,  0.0430,  0.0499,\n",
              "          0.0232,  0.0195,  0.0017, -0.0410,  0.0010,  0.0160, -0.0074, -0.0561,\n",
              "         -0.0102,  0.0490, -0.0444,  0.0064, -0.0120,  0.0559, -0.0435, -0.0002,\n",
              "         -0.0527, -0.0106, -0.0133,  0.0304, -0.0417,  0.0461, -0.0432, -0.0221,\n",
              "         -0.0251, -0.0352, -0.0120,  0.0195], device='cuda:0',\n",
              "        requires_grad=True),\n",
              " Parameter containing:\n",
              " tensor([[-0.0456,  0.0281, -0.0835,  0.0821,  0.0871,  0.0586, -0.0488, -0.0014,\n",
              "           0.0941, -0.0594,  0.0476, -0.0199,  0.0911, -0.0222,  0.0157,  0.0046,\n",
              "           0.0621,  0.0865, -0.0662,  0.0430, -0.0369, -0.0433,  0.0873,  0.0004,\n",
              "          -0.0625,  0.0859,  0.0879,  0.0953, -0.0379, -0.0757,  0.0626, -0.0044,\n",
              "           0.0200,  0.0886,  0.0657,  0.0635, -0.0233, -0.0808,  0.0655, -0.0360,\n",
              "           0.0826,  0.0846,  0.0310, -0.0599, -0.0617,  0.0166,  0.0718, -0.0738,\n",
              "           0.0478,  0.0775, -0.0815,  0.0938, -0.0027,  0.0962, -0.0918, -0.0056,\n",
              "          -0.0319, -0.0562,  0.0348,  0.0745,  0.0463,  0.0346, -0.0519, -0.0823,\n",
              "          -0.0188,  0.0477,  0.0941, -0.0047,  0.0243,  0.0942, -0.0594,  0.0125,\n",
              "           0.0025, -0.0438,  0.0430,  0.0339,  0.0685,  0.0728,  0.0604, -0.0060,\n",
              "          -0.0169, -0.0710, -0.0563,  0.0579,  0.0164, -0.0762, -0.0242, -0.0412,\n",
              "           0.0570,  0.0399,  0.0579, -0.0517, -0.0307,  0.0143, -0.0373, -0.0320,\n",
              "           0.0056,  0.0557,  0.0918,  0.0320]], device='cuda:0',\n",
              "        requires_grad=True),\n",
              " Parameter containing:\n",
              " tensor([-0.0617], device='cuda:0', requires_grad=True)]"
            ]
          },
          "metadata": {},
          "execution_count": 107
        }
      ]
    },
    {
      "cell_type": "code",
      "source": [
        "import torch\n",
        "from torch import nn, optim\n",
        "\n",
        "class HouseRegression(nn.Module):\n",
        "    def __init__(self, in_features):\n",
        "        super(HouseRegression, self).__init__()\n",
        "        self.fc1 = nn.Linear(in_features, 200)\n",
        "        self.fc2 = nn.Linear(200, 300)\n",
        "        self.fc3 = nn.Linear(300, 100)\n",
        "        self.fc4 = nn.Linear(100, 1)\n",
        "        self.relu = nn.ReLU()\n",
        "\n",
        "    def forward(self, x):\n",
        "        x = self.fc1(x)\n",
        "        x = self.relu(x)\n",
        "        x = self.fc2(x)\n",
        "        x = self.relu(x)\n",
        "        x = self.fc3(x)\n",
        "        x = self.relu(x)\n",
        "        x = self.fc4(x)\n",
        "        return x\n",
        "\n",
        "x = torch.randn(1000, in_features)\n",
        "y = torch.randn(1000, 1)\n",
        "\n",
        "\n",
        "in_features = 66\n",
        "lr = 0.1\n",
        "epochs = 1000\n",
        "torch.manual_seed(0)\n",
        "device = 'cuda' if torch.cuda.is_available() else 'cpu'\n",
        "model = HouseRegression(in_features).to(device)\n",
        "x, y = x.to(device), y.to(device)\n",
        "optimizer = optim.SGD(model.parameters(), lr=lr)\n",
        "loss_fn = nn.MSELoss()\n",
        "\n",
        "losses = []\n",
        "for epoch in range(epochs):\n",
        "    model.train()\n",
        "    y_pred = model(x)\n",
        "    loss = loss_fn(y_pred, y)\n",
        "    losses.append(loss.detach().cpu().item())\n",
        "    loss.backward()\n",
        "    optimizer.step()\n",
        "    optimizer.zero_grad()\n"
      ],
      "metadata": {
        "id": "cqgu0HkJ78qz"
      },
      "execution_count": null,
      "outputs": []
    },
    {
      "cell_type": "code",
      "source": [
        "model.state_dict()"
      ],
      "metadata": {
        "colab": {
          "base_uri": "https://localhost:8080/"
        },
        "id": "13NOfcFcaH5S",
        "outputId": "1c69f4f7-f385-4303-d6ae-6af1e75839fa"
      },
      "execution_count": null,
      "outputs": [
        {
          "output_type": "execute_result",
          "data": {
            "text/plain": [
              "OrderedDict([('fc1.weight',\n",
              "              tensor([[-0.0088,  0.0381, -0.1527,  ...,  0.0992,  0.0699, -0.0428],\n",
              "                      [-0.0650,  0.0788,  0.0794,  ..., -0.1384, -0.0192,  0.0044],\n",
              "                      [-0.0951, -0.0370,  0.1150,  ..., -0.0403, -0.1000,  0.0817],\n",
              "                      ...,\n",
              "                      [-0.0953, -0.0621, -0.0270,  ..., -0.1066, -0.0019, -0.1195],\n",
              "                      [-0.0274, -0.0991, -0.0916,  ...,  0.1150, -0.0697,  0.0855],\n",
              "                      [ 0.0603,  0.0645, -0.0311,  ...,  0.0552,  0.0556, -0.0687]],\n",
              "                     device='cuda:0')),\n",
              "             ('fc1.bias',\n",
              "              tensor([-1.1306e-01, -8.7810e-02,  6.3818e-02, -2.4339e-02, -1.6687e-01,\n",
              "                      -1.4170e-01, -1.4105e-01, -1.0574e-01, -1.0738e-01, -9.5743e-02,\n",
              "                       5.7877e-02, -7.7151e-02,  9.0378e-02, -9.8170e-02, -1.0538e-01,\n",
              "                      -7.3473e-02, -7.4760e-02, -1.0161e-01, -1.5791e-01, -3.5433e-02,\n",
              "                      -1.2578e-01, -8.9935e-02, -4.9395e-02, -7.0593e-02, -2.6987e-02,\n",
              "                      -9.9467e-02, -7.1694e-02,  6.2969e-02,  6.5026e-02, -2.0264e-02,\n",
              "                      -3.5568e-02,  7.2049e-02,  6.4833e-02, -5.0978e-02,  4.3621e-03,\n",
              "                      -2.8385e-02, -8.6717e-02,  5.2375e-02,  4.4874e-02, -1.2173e-02,\n",
              "                       5.4628e-02,  2.5532e-04,  3.5678e-02,  2.0749e-02,  1.9555e-02,\n",
              "                       4.7655e-03,  3.3523e-02,  5.0615e-02,  3.4018e-02, -1.0372e-01,\n",
              "                      -3.1739e-02,  8.0884e-02,  6.0529e-02,  1.5463e-02, -5.6874e-02,\n",
              "                       8.5003e-02, -1.0936e-02, -9.6842e-02, -1.9859e-02,  4.5199e-02,\n",
              "                      -1.7448e-01, -3.0762e-02,  6.5603e-02, -7.7220e-02, -7.2764e-02,\n",
              "                      -5.6927e-02, -2.5818e-02, -9.5640e-02, -1.4848e-02,  7.4357e-03,\n",
              "                      -5.0573e-03, -4.2886e-02,  3.4460e-02, -4.2760e-02,  3.6980e-02,\n",
              "                       2.4763e-02, -1.1603e-01, -3.7123e-02,  4.5670e-02, -5.8027e-02,\n",
              "                      -7.4097e-02, -4.8218e-02, -7.3594e-02, -8.3292e-02, -1.1369e-02,\n",
              "                       5.6288e-02, -1.8207e-02,  7.0801e-02,  3.7056e-02, -1.0161e-01,\n",
              "                      -9.0780e-02, -8.2498e-02,  8.8247e-03, -4.5521e-02, -8.8077e-02,\n",
              "                      -1.2434e-01, -4.9384e-02,  4.9165e-02, -1.2293e-02,  4.4053e-02,\n",
              "                      -7.7016e-02,  8.2488e-02, -1.0313e-01,  6.1703e-02, -3.2629e-02,\n",
              "                       4.1061e-02,  5.9432e-02, -6.1541e-02, -4.2174e-02, -6.8986e-02,\n",
              "                      -1.5615e-02, -8.4696e-02, -6.3131e-02, -9.1893e-02,  2.2311e-02,\n",
              "                       3.0549e-02, -8.6605e-03, -5.5371e-03, -1.4079e-01, -1.3773e-01,\n",
              "                      -1.2363e-01, -9.4278e-02, -1.2390e-01,  3.2346e-02, -9.4031e-02,\n",
              "                       3.0295e-02,  5.9978e-02, -4.5199e-02, -1.4255e-02,  1.9660e-02,\n",
              "                      -1.1921e-01,  8.8781e-02,  6.5781e-02,  6.7835e-02, -1.0756e-01,\n",
              "                       4.9134e-02, -5.1968e-02,  2.1440e-02,  3.9473e-02, -1.7655e-02,\n",
              "                       1.4689e-02, -6.8202e-02, -7.4973e-02,  2.4238e-02, -1.1422e-01,\n",
              "                       7.3203e-05, -1.4900e-02, -4.8697e-02, -1.2982e-01, -1.0462e-01,\n",
              "                      -8.6949e-02, -4.4382e-03,  6.0052e-03, -1.1415e-01, -7.1221e-02,\n",
              "                      -1.3642e-01,  4.8311e-02, -1.3955e-01, -4.6144e-02, -1.2813e-01,\n",
              "                      -1.4504e-01,  1.9122e-02,  1.3591e-02,  2.9277e-02,  3.8350e-02,\n",
              "                      -7.2382e-02,  2.4371e-02,  3.0065e-02, -2.3689e-02, -2.9124e-02,\n",
              "                      -4.0641e-02, -1.3605e-01, -4.9236e-02, -3.5037e-02, -1.3106e-01,\n",
              "                       2.9510e-02, -1.6453e-01, -7.6647e-02,  1.5386e-02, -1.6869e-02,\n",
              "                       1.3461e-03, -1.9343e-02, -1.2147e-01, -9.1622e-02, -6.0105e-02,\n",
              "                      -1.1605e-01, -1.0593e-01, -7.5579e-02,  5.9528e-02,  4.7597e-02,\n",
              "                      -9.8232e-03, -1.2086e-01, -1.0256e-01,  7.0678e-02, -2.3391e-02,\n",
              "                      -4.1643e-02, -8.1075e-02, -1.1493e-01,  1.3978e-02, -4.6753e-02],\n",
              "                     device='cuda:0')),\n",
              "             ('fc2.weight',\n",
              "              tensor([[-0.0538, -0.0505, -0.0836,  ..., -0.0502, -0.0217, -0.0601],\n",
              "                      [-0.0497,  0.0773,  0.0663,  ..., -0.0148,  0.0166, -0.0725],\n",
              "                      [-0.0925, -0.0322,  0.0583,  ...,  0.0450,  0.0673,  0.0214],\n",
              "                      ...,\n",
              "                      [-0.0304, -0.0261, -0.0676,  ..., -0.0474,  0.0297,  0.0375],\n",
              "                      [-0.0194,  0.0204, -0.0432,  ...,  0.0177, -0.0661, -0.0571],\n",
              "                      [-0.0251, -0.0249,  0.0306,  ..., -0.0253,  0.0016, -0.0700]],\n",
              "                     device='cuda:0')),\n",
              "             ('fc2.bias',\n",
              "              tensor([-0.0606, -0.0173, -0.0321, -0.0584, -0.0555, -0.0641,  0.0666,  0.0275,\n",
              "                       0.0471,  0.0505,  0.0228, -0.0033,  0.0207,  0.0265,  0.0056, -0.0597,\n",
              "                      -0.0181,  0.0322, -0.0294, -0.0333,  0.0168,  0.0032, -0.0526, -0.0263,\n",
              "                      -0.0029,  0.0469,  0.0486,  0.0377,  0.0307, -0.0556, -0.0757,  0.0462,\n",
              "                      -0.0391,  0.0011, -0.0336, -0.0120,  0.0372,  0.0131,  0.0227,  0.0548,\n",
              "                       0.0046, -0.0419,  0.0676, -0.0247, -0.0170,  0.0462,  0.0453,  0.0016,\n",
              "                      -0.0558, -0.0208, -0.0392, -0.0490, -0.0391, -0.0306,  0.0332, -0.0127,\n",
              "                      -0.0215, -0.0644,  0.0630, -0.0207, -0.0337, -0.0345, -0.0497,  0.0225,\n",
              "                      -0.0070,  0.0046, -0.0738, -0.0323, -0.0484, -0.0771, -0.0746, -0.0272,\n",
              "                       0.0250, -0.0310,  0.0157,  0.0216, -0.0144,  0.0008,  0.0121, -0.0564,\n",
              "                      -0.0302,  0.0274, -0.0545, -0.0245,  0.0077,  0.0439, -0.0504, -0.0731,\n",
              "                      -0.0531, -0.0555, -0.0170, -0.0743,  0.0155, -0.0280,  0.0366, -0.0240,\n",
              "                      -0.0461,  0.0139,  0.0195, -0.0154, -0.0636,  0.0005,  0.0214,  0.0173,\n",
              "                       0.0423, -0.0237, -0.0620, -0.0622, -0.0111, -0.0489, -0.0085, -0.0343,\n",
              "                       0.0103, -0.0122,  0.0065, -0.0446,  0.0175,  0.0072,  0.0349, -0.0192,\n",
              "                       0.0412, -0.0697, -0.0433, -0.0039, -0.0575, -0.0643,  0.0376,  0.0544,\n",
              "                      -0.0359,  0.0380, -0.0225, -0.0270,  0.0476,  0.0451,  0.0313, -0.0255,\n",
              "                      -0.0300, -0.0611,  0.0688,  0.0318, -0.0033,  0.0214,  0.0691, -0.0411,\n",
              "                      -0.0544,  0.0275, -0.0738,  0.0177,  0.0177, -0.0048,  0.0259, -0.0136,\n",
              "                       0.0201, -0.0339, -0.0474, -0.0654,  0.0282,  0.0760, -0.0523,  0.0201,\n",
              "                       0.0387,  0.0419,  0.0034,  0.0487, -0.0340, -0.0686,  0.0018,  0.0201,\n",
              "                       0.0073,  0.0496, -0.0319,  0.0399,  0.0535,  0.0072, -0.0489, -0.0534,\n",
              "                      -0.0550, -0.0475,  0.0048, -0.0103,  0.0060, -0.0571,  0.0468, -0.0009,\n",
              "                      -0.0065, -0.0442, -0.0721, -0.0584, -0.0179,  0.0485,  0.0314,  0.0328,\n",
              "                       0.0393,  0.0307,  0.0169, -0.0639, -0.0288,  0.0403,  0.0156, -0.0055,\n",
              "                       0.0138, -0.0609,  0.0072,  0.0286,  0.0418, -0.0608,  0.0500,  0.0198,\n",
              "                       0.0057, -0.0792, -0.0198, -0.0005, -0.0706,  0.0405,  0.0466, -0.0293,\n",
              "                       0.0614, -0.0375, -0.0677, -0.0519,  0.0371, -0.0292, -0.0636,  0.0412,\n",
              "                      -0.0127,  0.0368,  0.0146,  0.0537, -0.0025, -0.0907, -0.0303,  0.0345,\n",
              "                      -0.0526,  0.0101,  0.0073, -0.0108,  0.0351, -0.0381, -0.0122, -0.0674,\n",
              "                      -0.0314,  0.0547,  0.0152,  0.0027, -0.0550, -0.0332,  0.0366,  0.0464,\n",
              "                      -0.0457,  0.0103,  0.0511, -0.0684, -0.0037, -0.0479,  0.0515,  0.0103,\n",
              "                       0.0708,  0.0466, -0.1048, -0.0519, -0.0262, -0.0325,  0.0147, -0.0425,\n",
              "                      -0.0435, -0.0333, -0.0121, -0.0519, -0.0833, -0.0699,  0.0111,  0.0193,\n",
              "                      -0.0733, -0.0293, -0.0071, -0.0581,  0.0047,  0.0098, -0.0629, -0.0663,\n",
              "                      -0.0466, -0.0434, -0.0036,  0.0021,  0.0082,  0.0581, -0.0275,  0.0229,\n",
              "                       0.0141,  0.0528,  0.0307,  0.0045, -0.0204, -0.0798, -0.0061,  0.0187,\n",
              "                      -0.0760,  0.0217, -0.0538,  0.0417], device='cuda:0')),\n",
              "             ('fc3.weight',\n",
              "              tensor([[ 0.0129,  0.0200, -0.0329,  ..., -0.0272, -0.0195,  0.0469],\n",
              "                      [ 0.0197,  0.0278, -0.0041,  ..., -0.0333,  0.0395,  0.0539],\n",
              "                      [-0.0313, -0.0109,  0.0224,  ...,  0.0032,  0.0358, -0.0263],\n",
              "                      ...,\n",
              "                      [ 0.0494,  0.0364, -0.0554,  ..., -0.0465, -0.0208,  0.0521],\n",
              "                      [-0.0153, -0.0308, -0.0254,  ..., -0.0497, -0.0394, -0.0131],\n",
              "                      [-0.0272,  0.0439, -0.0100,  ..., -0.0191, -0.0314,  0.0217]],\n",
              "                     device='cuda:0')),\n",
              "             ('fc3.bias',\n",
              "              tensor([-1.5555e-03,  8.5173e-03,  8.2624e-02,  5.2772e-03,  2.0376e-02,\n",
              "                       1.0100e-01,  6.5516e-03,  1.2432e-02,  8.8776e-03,  5.5174e-03,\n",
              "                      -2.5262e-02,  9.6111e-03, -1.9728e-02,  1.8851e-02,  3.4663e-02,\n",
              "                      -2.4157e-02,  1.2609e-01,  4.5523e-02, -2.0772e-03, -2.9957e-02,\n",
              "                       4.0502e-02,  7.8262e-02,  9.7672e-02,  1.1448e-02,  4.0313e-02,\n",
              "                      -5.7244e-03, -2.9532e-02, -1.9295e-02,  2.2667e-02,  5.3786e-02,\n",
              "                      -4.8572e-02,  4.8903e-02, -2.9894e-02, -3.8714e-02, -3.1367e-02,\n",
              "                       1.3611e-02,  1.7776e-04,  5.0015e-02,  5.5625e-02,  8.1463e-02,\n",
              "                       6.9472e-02, -1.6861e-02,  3.4284e-02,  9.1121e-02,  1.1095e-01,\n",
              "                      -4.6656e-03,  2.1709e-02,  4.4032e-02,  5.4939e-03, -4.9237e-03,\n",
              "                       1.5172e-02,  1.1955e-02, -4.8949e-02, -2.8068e-02, -3.4485e-02,\n",
              "                       3.4966e-02, -2.9622e-02,  3.0197e-02,  1.9160e-01,  4.2569e-02,\n",
              "                       5.3670e-02,  5.3860e-02, -5.2419e-02,  2.7421e-02, -1.5637e-02,\n",
              "                      -2.9274e-04, -4.4996e-02, -1.7265e-02,  2.1112e-02,  1.1032e-02,\n",
              "                       6.5348e-02,  8.0759e-02,  1.2276e-01, -3.5772e-02,  1.3833e-02,\n",
              "                       4.1191e-02, -2.4337e-02, -3.5075e-02,  1.3142e-01,  9.8257e-02,\n",
              "                      -2.9240e-02,  2.1170e-02, -1.8870e-02,  6.5381e-02, -2.1864e-02,\n",
              "                       1.4337e-02,  4.5788e-02, -1.1706e-03, -2.2532e-02, -3.9528e-02,\n",
              "                       7.7203e-03,  1.1777e-01, -4.9028e-02,  3.4924e-02,  3.1392e-04,\n",
              "                       1.5918e-02,  8.5796e-03,  6.4695e-04,  4.3161e-02, -4.9927e-02],\n",
              "                     device='cuda:0')),\n",
              "             ('fc4.weight',\n",
              "              tensor([[ 0.1772,  0.1339, -0.2408,  0.0978,  0.0484, -0.2242,  0.1903, -0.0443,\n",
              "                        0.0719,  0.0772,  0.1578,  0.0889,  0.1198, -0.1343, -0.2039,  0.0524,\n",
              "                       -0.3024, -0.1289,  0.1768, -0.1291,  0.1992, -0.2590, -0.2262,  0.2169,\n",
              "                       -0.0368, -0.1497,  0.1756, -0.0951, -0.0975, -0.2035,  0.1251,  0.2384,\n",
              "                        0.1910, -0.1010, -0.0702, -0.0483, -0.0422, -0.2043,  0.1974, -0.2950,\n",
              "                        0.2600,  0.0464,  0.1185,  0.3281, -0.5155, -0.1025, -0.1830, -0.1466,\n",
              "                       -0.1476, -0.0882,  0.2257, -0.1595,  0.1307, -0.0370,  0.0026, -0.1814,\n",
              "                        0.2147, -0.1238,  0.4848, -0.0890, -0.2143, -0.0749,  0.0117, -0.1649,\n",
              "                       -0.1368, -0.1252,  0.0998,  0.1714,  0.1604,  0.0407,  0.3090, -0.2826,\n",
              "                        0.2683,  0.0934, -0.2326, -0.0680, -0.0385,  0.0328,  0.3341,  0.3191,\n",
              "                       -0.0234, -0.1159,  0.0225, -0.3096,  0.0924, -0.1174, -0.1143,  0.1304,\n",
              "                       -0.1035,  0.1736, -0.0434, -0.3416,  0.0833,  0.0977, -0.0310,  0.1276,\n",
              "                        0.2058,  0.1135, -0.1641, -0.0337]], device='cuda:0')),\n",
              "             ('fc4.bias', tensor([-0.6180], device='cuda:0'))])"
            ]
          },
          "metadata": {},
          "execution_count": 114
        }
      ]
    }
  ]
}